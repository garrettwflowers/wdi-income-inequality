{
 "cells": [
  {
   "cell_type": "code",
   "execution_count": 6,
   "id": "3904b5e9",
   "metadata": {},
   "outputs": [],
   "source": [
    "import pandas as pd\n",
    "import matplotlib.pyplot as plt\n",
    "import os\n",
    "os.makedirs('reference', exist_ok=True)"
   ]
  },
  {
   "cell_type": "code",
   "execution_count": 7,
   "id": "330627e4",
   "metadata": {},
   "outputs": [
    {
     "data": {
      "text/html": [
       "<div>\n",
       "<style scoped>\n",
       "    .dataframe tbody tr th:only-of-type {\n",
       "        vertical-align: middle;\n",
       "    }\n",
       "\n",
       "    .dataframe tbody tr th {\n",
       "        vertical-align: top;\n",
       "    }\n",
       "\n",
       "    .dataframe thead th {\n",
       "        text-align: right;\n",
       "    }\n",
       "</style>\n",
       "<table border=\"1\" class=\"dataframe\">\n",
       "  <thead>\n",
       "    <tr style=\"text-align: right;\">\n",
       "      <th></th>\n",
       "      <th>Indicator Code</th>\n",
       "      <th>Indicator Name</th>\n",
       "      <th>Topic</th>\n",
       "    </tr>\n",
       "  </thead>\n",
       "  <tbody>\n",
       "    <tr>\n",
       "      <th>0</th>\n",
       "      <td>AG.CON.FERT.PT.ZS</td>\n",
       "      <td>Fertilizer consumption (% of fertilizer produc...</td>\n",
       "      <td>Environment: Agricultural production</td>\n",
       "    </tr>\n",
       "    <tr>\n",
       "      <th>1</th>\n",
       "      <td>AG.CON.FERT.ZS</td>\n",
       "      <td>Fertilizer consumption (kilograms per hectare ...</td>\n",
       "      <td>Environment: Agricultural production</td>\n",
       "    </tr>\n",
       "    <tr>\n",
       "      <th>2</th>\n",
       "      <td>AG.LND.AGRI.K2</td>\n",
       "      <td>Agricultural land (sq. km)</td>\n",
       "      <td>Environment: Land use</td>\n",
       "    </tr>\n",
       "    <tr>\n",
       "      <th>3</th>\n",
       "      <td>AG.LND.AGRI.ZS</td>\n",
       "      <td>Agricultural land (% of land area)</td>\n",
       "      <td>Environment: Land use</td>\n",
       "    </tr>\n",
       "    <tr>\n",
       "      <th>4</th>\n",
       "      <td>AG.LND.ARBL.HA</td>\n",
       "      <td>Arable land (hectares)</td>\n",
       "      <td>Environment: Land use</td>\n",
       "    </tr>\n",
       "    <tr>\n",
       "      <th>...</th>\n",
       "      <td>...</td>\n",
       "      <td>...</td>\n",
       "      <td>...</td>\n",
       "    </tr>\n",
       "    <tr>\n",
       "      <th>1491</th>\n",
       "      <td>VC.IDP.NWDS</td>\n",
       "      <td>Internally displaced persons, new displacement...</td>\n",
       "      <td>Public Sector: Conflict &amp; fragility</td>\n",
       "    </tr>\n",
       "    <tr>\n",
       "      <th>1492</th>\n",
       "      <td>VC.IDP.TOCV</td>\n",
       "      <td>Internally displaced persons, total displaced ...</td>\n",
       "      <td>Public Sector: Conflict &amp; fragility</td>\n",
       "    </tr>\n",
       "    <tr>\n",
       "      <th>1493</th>\n",
       "      <td>VC.IHR.PSRC.FE.P5</td>\n",
       "      <td>Intentional homicides, female (per 100,000 fem...</td>\n",
       "      <td>Public Sector: Conflict &amp; fragility</td>\n",
       "    </tr>\n",
       "    <tr>\n",
       "      <th>1494</th>\n",
       "      <td>VC.IHR.PSRC.MA.P5</td>\n",
       "      <td>Intentional homicides, male (per 100,000 male)</td>\n",
       "      <td>Public Sector: Conflict &amp; fragility</td>\n",
       "    </tr>\n",
       "    <tr>\n",
       "      <th>1495</th>\n",
       "      <td>VC.IHR.PSRC.P5</td>\n",
       "      <td>Intentional homicides (per 100,000 people)</td>\n",
       "      <td>Public Sector: Conflict &amp; fragility</td>\n",
       "    </tr>\n",
       "  </tbody>\n",
       "</table>\n",
       "<p>1496 rows × 3 columns</p>\n",
       "</div>"
      ],
      "text/plain": [
       "         Indicator Code                                     Indicator Name  \\\n",
       "0     AG.CON.FERT.PT.ZS  Fertilizer consumption (% of fertilizer produc...   \n",
       "1        AG.CON.FERT.ZS  Fertilizer consumption (kilograms per hectare ...   \n",
       "2        AG.LND.AGRI.K2                         Agricultural land (sq. km)   \n",
       "3        AG.LND.AGRI.ZS                 Agricultural land (% of land area)   \n",
       "4        AG.LND.ARBL.HA                             Arable land (hectares)   \n",
       "...                 ...                                                ...   \n",
       "1491        VC.IDP.NWDS  Internally displaced persons, new displacement...   \n",
       "1492        VC.IDP.TOCV  Internally displaced persons, total displaced ...   \n",
       "1493  VC.IHR.PSRC.FE.P5  Intentional homicides, female (per 100,000 fem...   \n",
       "1494  VC.IHR.PSRC.MA.P5     Intentional homicides, male (per 100,000 male)   \n",
       "1495     VC.IHR.PSRC.P5         Intentional homicides (per 100,000 people)   \n",
       "\n",
       "                                     Topic  \n",
       "0     Environment: Agricultural production  \n",
       "1     Environment: Agricultural production  \n",
       "2                    Environment: Land use  \n",
       "3                    Environment: Land use  \n",
       "4                    Environment: Land use  \n",
       "...                                    ...  \n",
       "1491   Public Sector: Conflict & fragility  \n",
       "1492   Public Sector: Conflict & fragility  \n",
       "1493   Public Sector: Conflict & fragility  \n",
       "1494   Public Sector: Conflict & fragility  \n",
       "1495   Public Sector: Conflict & fragility  \n",
       "\n",
       "[1496 rows x 3 columns]"
      ]
     },
     "execution_count": 7,
     "metadata": {},
     "output_type": "execute_result"
    }
   ],
   "source": [
    "series_ref = pd.read_csv('input/reference/WDISeries.csv', usecols=['Series Code', 'Indicator Name', 'Topic'])\n",
    "series_ref = series_ref[['Series Code', 'Indicator Name', 'Topic']].rename(columns={'Series Code': 'Indicator Code'})\n",
    "series_ref"
   ]
  },
  {
   "cell_type": "code",
   "execution_count": 8,
   "id": "3b59a885",
   "metadata": {},
   "outputs": [
    {
     "name": "stdout",
     "output_type": "stream",
     "text": [
      "Missing topics: 43\n"
     ]
    }
   ],
   "source": [
    "print(f\"Missing topics: {series_ref['Topic'].isna().sum()}\")\n",
    "# series_ref[series_ref['Topic'].isna()]"
   ]
  },
  {
   "cell_type": "code",
   "execution_count": 9,
   "id": "1a56a3ad",
   "metadata": {},
   "outputs": [
    {
     "name": "stdout",
     "output_type": "stream",
     "text": [
      "Missing topics: 0\n"
     ]
    }
   ],
   "source": [
    "keywords = {\n",
    "    'Climate': [\n",
    "        'carbon', 'nitrous', 'oxide', 'greenhouse gas','methane']\n",
    "    \n",
    "    # add more as needed\n",
    "}\n",
    "\n",
    "for name in series_ref['Indicator Name']:\n",
    "    for keyword, word in keywords.items():\n",
    "        if any(word in name.lower() for word in word):\n",
    "            series_ref.loc[series_ref['Indicator Name'] == name, 'Topic'] = keyword\n",
    "            break\n",
    "\n",
    "print(f\"Missing topics: {series_ref['Topic'].isna().sum()}\")"
   ]
  },
  {
   "cell_type": "code",
   "execution_count": 10,
   "id": "d639e9c0",
   "metadata": {},
   "outputs": [
    {
     "name": "stdout",
     "output_type": "stream",
     "text": [
      "\n",
      "Distribution of coarse topic categories:\n",
      "Coarse_Topic\n",
      "Economy & Finance              649\n",
      "Health                         255\n",
      "Education                      156\n",
      "Environment & Climate          146\n",
      "Social Development              87\n",
      "Government & Governance         79\n",
      "Other                           57\n",
      "Infrastructure & Technology     36\n",
      "Poverty & Inequality            24\n",
      "Market                           7\n",
      "Name: count, dtype: int64\n"
     ]
    },
    {
     "data": {
      "image/png": "[encoded data removed]",
      "text/plain": [
       "<Figure size 864x576 with 1 Axes>"
      ]
     },
     "metadata": {
      "needs_background": "light"
     },
     "output_type": "display_data"
    },
    {
     "name": "stdout",
     "output_type": "stream",
     "text": [
      "\n",
      "Complete mapping of original topics to coarse categories saved to 'indicator_lookup.csv'\n"
     ]
    }
   ],
   "source": [
    "# Create a function to map topics to more coarse categories\n",
    "def map_to_coarse_category(topic):\n",
    "    if pd.isna(topic):\n",
    "        return \"Other\"\n",
    "    \n",
    "    topic_lower = str(topic).lower()\n",
    "    \n",
    "    # Poverty & Inequality category\n",
    "    if any(term in topic_lower for term in ['poverty', 'gini', 'inequality', 'income distribution', \n",
    "                                          'wealth distribution', 'income gap', 'wealth gap']):\n",
    "        return \"Poverty & Inequality\"\n",
    "    \n",
    "    # Economic categories\n",
    "    elif any(term in topic_lower for term in ['economic', 'economy', 'finance', 'trade', 'business']):\n",
    "        return \"Economy & Finance\"\n",
    "    \n",
    "    elif any(term in topic_lower for term in ['market']):\n",
    "        return \"Market\"\n",
    "    \n",
    "    # Environmental categories\n",
    "    elif any(term in topic_lower for term in ['environment', 'climate', 'emission', 'pollution', 'forest', 'energy']):\n",
    "        return \"Environment & Climate\"\n",
    "    \n",
    "    # Social categories (excluding poverty)\n",
    "    elif any(term in topic_lower for term in ['health']):\n",
    "        return \"Health\"\n",
    "    \n",
    "    elif any(term in topic_lower for term in ['education']):\n",
    "        return \"Education\"\n",
    "    \n",
    "     # Social categories (excluding poverty)\n",
    "    elif any(term in topic_lower for term in ['social', 'urban', 'rural']):\n",
    "        return \"Social Development\"\n",
    "    \n",
    "    elif any(term in topic_lower for term in ['education']):\n",
    "        return \"Gender\"\n",
    "    \n",
    "    # Infrastructure categories\n",
    "    elif any(term in topic_lower for term in ['infrastructure', 'transport', 'communication', 'technology']):\n",
    "        return \"Infrastructure & Technology\"\n",
    "    \n",
    "    # Government categories\n",
    "    elif any(term in topic_lower for term in ['government', 'public sector', 'governance', 'law', 'regulation']):\n",
    "        return \"Government & Governance\"\n",
    "    \n",
    "    # Agriculture categories\n",
    "    elif any(term in topic_lower for term in ['agriculture', 'farming', 'land', 'food']):\n",
    "        return \"Agriculture & Food\"\n",
    "    \n",
    "    # Default category\n",
    "    else:\n",
    "        return \"Other\"\n",
    "\n",
    "# Create a new column with coarse categories\n",
    "series_ref['Coarse_Topic'] = series_ref['Topic'].apply(map_to_coarse_category)\n",
    "\n",
    "# Count the distribution of coarse topics\n",
    "coarse_counts = series_ref['Coarse_Topic'].value_counts()\n",
    "print(\"\\nDistribution of coarse topic categories:\")\n",
    "print(coarse_counts)\n",
    "\n",
    "# Visualize the coarse categories\n",
    "plt.figure(figsize=(12, 8))\n",
    "coarse_counts.plot(kind='bar', color='teal')\n",
    "plt.title('Distribution of Coarse Topic Categories')\n",
    "plt.xlabel('Category')\n",
    "plt.ylabel('Count')\n",
    "plt.xticks(rotation=45, ha='right')\n",
    "plt.tight_layout()\n",
    "plt.savefig('output/images/coarse_topic_distribution.png')\n",
    "plt.show()\n",
    "series_ref.to_csv('output/reference/indicator_lookup.csv', index=False)\n",
    "print(\"\\nComplete mapping of original topics to coarse categories saved to 'indicator_lookup.csv'\")"
   ]
  },
  {
   "cell_type": "code",
   "execution_count": null,
   "id": "b677e37a",
   "metadata": {},
   "outputs": [],
   "source": []
  }
 ],
 "metadata": {
  "kernelspec": {
   "display_name": "Python 3",
   "language": "python",
   "name": "python3"
  },
  "language_info": {
   "codemirror_mode": {
    "name": "ipython",
    "version": 3
   },
   "file_extension": ".py",
   "mimetype": "text/x-python",
   "name": "python",
   "nbconvert_exporter": "python",
   "pygments_lexer": "ipython3",
   "version": "3.11.3"
  }
 },
 "nbformat": 4,
 "nbformat_minor": 5
}
