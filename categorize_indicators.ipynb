{
 "cells": [
  {
   "cell_type": "code",
   "execution_count": 2,
   "id": "3904b5e9",
   "metadata": {},
   "outputs": [],
   "source": [
    "import pandas as pd\n",
    "import matplotlib.pyplot as plt\n",
    "import os\n",
    "os.makedirs('reference', exist_ok=True)"
   ]
  },
  {
   "cell_type": "code",
   "execution_count": 27,
   "id": "330627e4",
   "metadata": {},
   "outputs": [
    {
     "data": {
      "application/vnd.microsoft.datawrangler.viewer.v0+json": {
       "columns": [
        {
         "name": "index",
         "rawType": "int64",
         "type": "integer"
        },
        {
         "name": "Indicator Code",
         "rawType": "object",
         "type": "string"
        },
        {
         "name": "Indicator Name",
         "rawType": "object",
         "type": "string"
        },
        {
         "name": "Topic",
         "rawType": "object",
         "type": "unknown"
        }
       ],
       "conversionMethod": "pd.DataFrame",
       "ref": "bb252d3e-3a3f-49f7-b017-9c3c1327af73",
       "rows": [
        [
         "0",
         "AG.CON.FERT.PT.ZS",
         "Fertilizer consumption (% of fertilizer production)",
         "Environment: Agricultural production"
        ],
        [
         "1",
         "AG.CON.FERT.ZS",
         "Fertilizer consumption (kilograms per hectare of arable land)",
         "Environment: Agricultural production"
        ],
        [
         "2",
         "AG.LND.AGRI.K2",
         "Agricultural land (sq. km)",
         "Environment: Land use"
        ],
        [
         "3",
         "AG.LND.AGRI.ZS",
         "Agricultural land (% of land area)",
         "Environment: Land use"
        ],
        [
         "4",
         "AG.LND.ARBL.HA",
         "Arable land (hectares)",
         "Environment: Land use"
        ],
        [
         "5",
         "AG.LND.ARBL.HA.PC",
         "Arable land (hectares per person)",
         "Environment: Land use"
        ],
        [
         "6",
         "AG.LND.ARBL.ZS",
         "Arable land (% of land area)",
         "Environment: Land use"
        ],
        [
         "7",
         "AG.LND.CREL.HA",
         "Land under cereal production (hectares)",
         "Environment: Agricultural production"
        ],
        [
         "8",
         "AG.LND.CROP.ZS",
         "Permanent cropland (% of land area)",
         "Environment: Land use"
        ],
        [
         "9",
         "AG.LND.EL5M.RU.K2",
         "Rural land area where elevation is below 5 meters (sq. km)",
         "Environment: Land use"
        ],
        [
         "10",
         "AG.LND.EL5M.RU.ZS",
         "Rural land area where elevation is below 5 meters (% of total land area)",
         "Environment: Land use"
        ],
        [
         "11",
         "AG.LND.EL5M.UR.K2",
         "Urban land area where elevation is below 5 meters (sq. km)",
         "Environment: Land use"
        ],
        [
         "12",
         "AG.LND.EL5M.UR.ZS",
         "Urban land area where elevation is below 5 meters (% of total land area)",
         "Environment: Land use"
        ],
        [
         "13",
         "AG.LND.EL5M.ZS",
         "Land area where elevation is below 5 meters (% of total land area)",
         "Environment: Land use"
        ],
        [
         "14",
         "AG.LND.FRST.K2",
         "Forest area (sq. km)",
         "Environment: Land use"
        ],
        [
         "15",
         "AG.LND.FRST.ZS",
         "Forest area (% of land area)",
         "Environment: Land use"
        ],
        [
         "16",
         "AG.LND.IRIG.AG.ZS",
         "Agricultural irrigated land (% of total agricultural land)",
         "Environment: Land use"
        ],
        [
         "17",
         "AG.LND.PRCP.MM",
         "Average precipitation in depth (mm per year)",
         "Environment: Land use"
        ],
        [
         "18",
         "AG.LND.TOTL.K2",
         "Land area (sq. km)",
         "Environment: Land use"
        ],
        [
         "19",
         "AG.LND.TOTL.RU.K2",
         "Rural land area (sq. km)",
         "Environment: Land use"
        ],
        [
         "20",
         "AG.LND.TOTL.UR.K2",
         "Urban land area (sq. km)",
         "Environment: Land use"
        ],
        [
         "21",
         "AG.PRD.CREL.MT",
         "Cereal production (metric tons)",
         "Environment: Agricultural production"
        ],
        [
         "22",
         "AG.PRD.CROP.XD",
         "Crop production index (2014-2016 = 100)",
         "Environment: Agricultural production"
        ],
        [
         "23",
         "AG.PRD.FOOD.XD",
         "Food production index (2014-2016 = 100)",
         "Environment: Agricultural production"
        ],
        [
         "24",
         "AG.PRD.LVSK.XD",
         "Livestock production index (2014-2016 = 100)",
         "Environment: Agricultural production"
        ],
        [
         "25",
         "AG.SRF.TOTL.K2",
         "Surface area (sq. km)",
         "Environment: Land use"
        ],
        [
         "26",
         "AG.YLD.CREL.KG",
         "Cereal yield (kg per hectare)",
         "Environment: Agricultural production"
        ],
        [
         "27",
         "BG.GSR.NFSV.GD.ZS",
         "Trade in services (% of GDP)",
         "Economic Policy & Debt: Balance of payments: Current account: Goods, services & income"
        ],
        [
         "28",
         "BM.GSR.CMCP.ZS",
         "Communications, computer, etc. (% of service imports, BoP)",
         "Economic Policy & Debt: Balance of payments: Current account: Goods, services & income"
        ],
        [
         "29",
         "BM.GSR.FCTY.CD",
         "Primary income payments (BoP, current US$)",
         "Economic Policy & Debt: Balance of payments: Current account: Goods, services & income"
        ],
        [
         "30",
         "BM.GSR.GNFS.CD",
         "Imports of goods and services (BoP, current US$)",
         "Economic Policy & Debt: Balance of payments: Current account: Goods, services & income"
        ],
        [
         "31",
         "BM.GSR.INSF.ZS",
         "Insurance and financial services (% of service imports, BoP)",
         "Economic Policy & Debt: Balance of payments: Current account: Goods, services & income"
        ],
        [
         "32",
         "BM.GSR.MRCH.CD",
         "Goods imports (BoP, current US$)",
         "Economic Policy & Debt: Balance of payments: Current account: Goods, services & income"
        ],
        [
         "33",
         "BM.GSR.NFSV.CD",
         "Service imports (BoP, current US$)",
         "Economic Policy & Debt: Balance of payments: Current account: Goods, services & income"
        ],
        [
         "34",
         "BM.GSR.ROYL.CD",
         "Charges for the use of intellectual property, payments (BoP, current US$)",
         "Economic Policy & Debt: Balance of payments: Current account: Goods, services & income"
        ],
        [
         "35",
         "BM.GSR.TOTL.CD",
         "Imports of goods, services and primary income (BoP, current US$)",
         "Economic Policy & Debt: Balance of payments: Current account: Goods, services & income"
        ],
        [
         "36",
         "BM.GSR.TRAN.ZS",
         "Transport services (% of service imports, BoP)",
         "Economic Policy & Debt: Balance of payments: Current account: Goods, services & income"
        ],
        [
         "37",
         "BM.GSR.TRVL.ZS",
         "Travel services (% of service imports, BoP)",
         "Economic Policy & Debt: Balance of payments: Current account: Goods, services & income"
        ],
        [
         "38",
         "BM.KLT.DINV.CD.WD",
         "Foreign direct investment, net outflows (BoP, current US$)",
         "Economic Policy & Debt: Balance of payments: Capital & financial account"
        ],
        [
         "39",
         "BM.KLT.DINV.WD.GD.ZS",
         "Foreign direct investment, net outflows (% of GDP)",
         "Economic Policy & Debt: Balance of payments: Capital & financial account"
        ],
        [
         "40",
         "BM.TRF.PRVT.CD",
         "Secondary income, other sectors, payments (BoP, current US$)",
         "Economic Policy & Debt: Balance of payments: Current account: Transfers"
        ],
        [
         "41",
         "BM.TRF.PWKR.CD.DT",
         "Personal remittances, paid (current US$)",
         "Economic Policy & Debt: Balance of payments: Current account: Transfers"
        ],
        [
         "42",
         "BN.CAB.XOKA.CD",
         "Current account balance (BoP, current US$)",
         "Economic Policy & Debt: Balance of payments: Current account: Balances"
        ],
        [
         "43",
         "BN.CAB.XOKA.GD.ZS",
         "Current account balance (% of GDP)",
         "Economic Policy & Debt: Balance of payments: Current account: Balances"
        ],
        [
         "44",
         "BN.FIN.TOTL.CD",
         "Net financial account (BoP, current US$)",
         "Economic Policy & Debt: Balance of payments: Capital & financial account"
        ],
        [
         "45",
         "BN.GSR.FCTY.CD",
         "Net primary income (BoP, current US$)",
         "Economic Policy & Debt: Balance of payments: Current account: Goods, services & income"
        ],
        [
         "46",
         "BN.GSR.GNFS.CD",
         "Net trade in goods and services (BoP, current US$)",
         "Economic Policy & Debt: Balance of payments: Current account: Balances"
        ],
        [
         "47",
         "BN.GSR.MRCH.CD",
         "Net trade in goods (BoP, current US$)",
         "Economic Policy & Debt: Balance of payments: Current account: Balances"
        ],
        [
         "48",
         "BN.KAC.EOMS.CD",
         "Net errors and omissions (BoP, current US$)",
         "Economic Policy & Debt: Balance of payments: Capital & financial account"
        ],
        [
         "49",
         "BN.KLT.DINV.CD",
         "Foreign direct investment, net (BoP, current US$)",
         "Economic Policy & Debt: Balance of payments: Capital & financial account"
        ]
       ],
       "shape": {
        "columns": 3,
        "rows": 1496
       }
      },
      "text/html": [
       "<div>\n",
       "<style scoped>\n",
       "    .dataframe tbody tr th:only-of-type {\n",
       "        vertical-align: middle;\n",
       "    }\n",
       "\n",
       "    .dataframe tbody tr th {\n",
       "        vertical-align: top;\n",
       "    }\n",
       "\n",
       "    .dataframe thead th {\n",
       "        text-align: right;\n",
       "    }\n",
       "</style>\n",
       "<table border=\"1\" class=\"dataframe\">\n",
       "  <thead>\n",
       "    <tr style=\"text-align: right;\">\n",
       "      <th></th>\n",
       "      <th>Indicator Code</th>\n",
       "      <th>Indicator Name</th>\n",
       "      <th>Topic</th>\n",
       "    </tr>\n",
       "  </thead>\n",
       "  <tbody>\n",
       "    <tr>\n",
       "      <th>0</th>\n",
       "      <td>AG.CON.FERT.PT.ZS</td>\n",
       "      <td>Fertilizer consumption (% of fertilizer produc...</td>\n",
       "      <td>Environment: Agricultural production</td>\n",
       "    </tr>\n",
       "    <tr>\n",
       "      <th>1</th>\n",
       "      <td>AG.CON.FERT.ZS</td>\n",
       "      <td>Fertilizer consumption (kilograms per hectare ...</td>\n",
       "      <td>Environment: Agricultural production</td>\n",
       "    </tr>\n",
       "    <tr>\n",
       "      <th>2</th>\n",
       "      <td>AG.LND.AGRI.K2</td>\n",
       "      <td>Agricultural land (sq. km)</td>\n",
       "      <td>Environment: Land use</td>\n",
       "    </tr>\n",
       "    <tr>\n",
       "      <th>3</th>\n",
       "      <td>AG.LND.AGRI.ZS</td>\n",
       "      <td>Agricultural land (% of land area)</td>\n",
       "      <td>Environment: Land use</td>\n",
       "    </tr>\n",
       "    <tr>\n",
       "      <th>4</th>\n",
       "      <td>AG.LND.ARBL.HA</td>\n",
       "      <td>Arable land (hectares)</td>\n",
       "      <td>Environment: Land use</td>\n",
       "    </tr>\n",
       "    <tr>\n",
       "      <th>...</th>\n",
       "      <td>...</td>\n",
       "      <td>...</td>\n",
       "      <td>...</td>\n",
       "    </tr>\n",
       "    <tr>\n",
       "      <th>1491</th>\n",
       "      <td>VC.IDP.NWDS</td>\n",
       "      <td>Internally displaced persons, new displacement...</td>\n",
       "      <td>Public Sector: Conflict &amp; fragility</td>\n",
       "    </tr>\n",
       "    <tr>\n",
       "      <th>1492</th>\n",
       "      <td>VC.IDP.TOCV</td>\n",
       "      <td>Internally displaced persons, total displaced ...</td>\n",
       "      <td>Public Sector: Conflict &amp; fragility</td>\n",
       "    </tr>\n",
       "    <tr>\n",
       "      <th>1493</th>\n",
       "      <td>VC.IHR.PSRC.FE.P5</td>\n",
       "      <td>Intentional homicides, female (per 100,000 fem...</td>\n",
       "      <td>Public Sector: Conflict &amp; fragility</td>\n",
       "    </tr>\n",
       "    <tr>\n",
       "      <th>1494</th>\n",
       "      <td>VC.IHR.PSRC.MA.P5</td>\n",
       "      <td>Intentional homicides, male (per 100,000 male)</td>\n",
       "      <td>Public Sector: Conflict &amp; fragility</td>\n",
       "    </tr>\n",
       "    <tr>\n",
       "      <th>1495</th>\n",
       "      <td>VC.IHR.PSRC.P5</td>\n",
       "      <td>Intentional homicides (per 100,000 people)</td>\n",
       "      <td>Public Sector: Conflict &amp; fragility</td>\n",
       "    </tr>\n",
       "  </tbody>\n",
       "</table>\n",
       "<p>1496 rows × 3 columns</p>\n",
       "</div>"
      ],
      "text/plain": [
       "         Indicator Code                                     Indicator Name  \\\n",
       "0     AG.CON.FERT.PT.ZS  Fertilizer consumption (% of fertilizer produc...   \n",
       "1        AG.CON.FERT.ZS  Fertilizer consumption (kilograms per hectare ...   \n",
       "2        AG.LND.AGRI.K2                         Agricultural land (sq. km)   \n",
       "3        AG.LND.AGRI.ZS                 Agricultural land (% of land area)   \n",
       "4        AG.LND.ARBL.HA                             Arable land (hectares)   \n",
       "...                 ...                                                ...   \n",
       "1491        VC.IDP.NWDS  Internally displaced persons, new displacement...   \n",
       "1492        VC.IDP.TOCV  Internally displaced persons, total displaced ...   \n",
       "1493  VC.IHR.PSRC.FE.P5  Intentional homicides, female (per 100,000 fem...   \n",
       "1494  VC.IHR.PSRC.MA.P5     Intentional homicides, male (per 100,000 male)   \n",
       "1495     VC.IHR.PSRC.P5         Intentional homicides (per 100,000 people)   \n",
       "\n",
       "                                     Topic  \n",
       "0     Environment: Agricultural production  \n",
       "1     Environment: Agricultural production  \n",
       "2                    Environment: Land use  \n",
       "3                    Environment: Land use  \n",
       "4                    Environment: Land use  \n",
       "...                                    ...  \n",
       "1491   Public Sector: Conflict & fragility  \n",
       "1492   Public Sector: Conflict & fragility  \n",
       "1493   Public Sector: Conflict & fragility  \n",
       "1494   Public Sector: Conflict & fragility  \n",
       "1495   Public Sector: Conflict & fragility  \n",
       "\n",
       "[1496 rows x 3 columns]"
      ]
     },
     "execution_count": 27,
     "metadata": {},
     "output_type": "execute_result"
    }
   ],
   "source": [
    "# series_ref = pd.read_csv('input/reference/WDISeries.csv', usecols=['Series Code', 'Topic'])\n",
    "series_ref = pd.read_csv('input/reference/WDISeries.csv', usecols=['Series Code', 'Indicator Name', 'Topic'])\n",
    "series_ref = series_ref[['Series Code', 'Indicator Name', 'Topic']].rename(columns={'Series Code': 'Indicator Code'})\n",
    "series_ref"
   ]
  },
  {
   "cell_type": "code",
   "execution_count": null,
   "id": "3b59a885",
   "metadata": {},
   "outputs": [
    {
     "data": {
      "application/vnd.microsoft.datawrangler.viewer.v0+json": {
       "columns": [
        {
         "name": "index",
         "rawType": "int64",
         "type": "integer"
        },
        {
         "name": "Indicator Code",
         "rawType": "object",
         "type": "string"
        },
        {
         "name": "Indicator Name",
         "rawType": "object",
         "type": "string"
        },
        {
         "name": "Topic",
         "rawType": "object",
         "type": "unknown"
        }
       ],
       "conversionMethod": "pd.DataFrame",
       "ref": "913b27d5-cc84-4331-986e-b25a160030cf",
       "rows": [
        [
         "246",
         "EN.GHG.ALL.LU.MT.CE.AR5",
         "Total greenhouse gas emissions including LULUCF (Mt CO2e)",
         null
        ],
        [
         "247",
         "EN.GHG.ALL.MT.CE.AR5",
         "Total greenhouse gas emissions excluding LULUCF (Mt CO2e)",
         null
        ],
        [
         "248",
         "EN.GHG.ALL.PC.CE.AR5",
         "Total greenhouse gas emissions per capita excluding LULUCF (t CO2e/capita)",
         null
        ],
        [
         "249",
         "EN.GHG.CH4.AG.MT.CE.AR5",
         "Methane (CH4) emissions from Agriculture (Mt CO2e)",
         null
        ],
        [
         "250",
         "EN.GHG.CH4.BU.MT.CE.AR5",
         "Methane (CH4) emissions from Building (Energy) (Mt CO2e)",
         null
        ],
        [
         "251",
         "EN.GHG.CH4.FE.MT.CE.AR5",
         "Methane (CH4) emissions from Fugitive Emissions (Energy) (Mt CO2e)",
         null
        ],
        [
         "252",
         "EN.GHG.CH4.IC.MT.CE.AR5",
         "Methane (CH4) emissions from Industrial Combustion (Energy) (Mt CO2e)",
         null
        ],
        [
         "253",
         "EN.GHG.CH4.IP.MT.CE.AR5",
         "Methane (CH4) emissions from Industrial Processes (Mt CO2e)",
         null
        ],
        [
         "254",
         "EN.GHG.CH4.MT.CE.AR5",
         "Methane (CH4) emissions (total) excluding LULUCF (Mt CO2e)",
         null
        ],
        [
         "255",
         "EN.GHG.CH4.PI.MT.CE.AR5",
         "Methane (CH4) emissions from Power Industry (Energy) (Mt CO2e)",
         null
        ],
        [
         "256",
         "EN.GHG.CH4.TR.MT.CE.AR5",
         "Methane (CH4) emissions from Transport (Energy) (Mt CO2e)",
         null
        ],
        [
         "257",
         "EN.GHG.CH4.WA.MT.CE.AR5",
         "Methane (CH4) emissions from Waste (Mt CO2e)",
         null
        ],
        [
         "258",
         "EN.GHG.CH4.ZG.AR5",
         "Methane (CH4) emissions (total) excluding LULUCF (% change from 1990)",
         null
        ],
        [
         "259",
         "EN.GHG.CO2.AG.MT.CE.AR5",
         "Carbon dioxide (CO2) emissions from Agriculture (Mt CO2e)",
         null
        ],
        [
         "260",
         "EN.GHG.CO2.BU.MT.CE.AR5",
         "Carbon dioxide (CO2) emissions from Building (Energy) (Mt CO2e)",
         null
        ],
        [
         "261",
         "EN.GHG.CO2.FE.MT.CE.AR5",
         "Carbon dioxide (CO2) emissions from Fugitive Emissions (Energy) (Mt CO2e)",
         null
        ],
        [
         "262",
         "EN.GHG.CO2.IC.MT.CE.AR5",
         "Carbon dioxide (CO2) emissions from Industrial Combustion (Energy) (Mt CO2e)",
         null
        ],
        [
         "263",
         "EN.GHG.CO2.IP.MT.CE.AR5",
         "Carbon dioxide (CO2) emissions from Industrial Processes (Mt CO2e)",
         null
        ],
        [
         "264",
         "EN.GHG.CO2.LU.DF.MT.CE.AR5",
         "Carbon dioxide (CO2) net fluxes from LULUCF - Deforestation (Mt CO2e)",
         null
        ],
        [
         "265",
         "EN.GHG.CO2.LU.FL.MT.CE.AR5",
         "Carbon dioxide (CO2) net fluxes from LULUCF - Forest Land (Mt CO2e)",
         null
        ],
        [
         "266",
         "EN.GHG.CO2.LU.MT.CE.AR5",
         "Carbon dioxide (CO2) net fluxes from LULUCF - Total excluding non-tropical fires (Mt CO2e)",
         null
        ],
        [
         "267",
         "EN.GHG.CO2.LU.OL.MT.CE.AR5",
         "Carbon dioxide (CO2) net fluxes from LULUCF - Other Land (Mt CO2e)",
         null
        ],
        [
         "268",
         "EN.GHG.CO2.LU.OS.MT.CE.AR5",
         "Carbon dioxide (CO2) net fluxes from LULUCF - Organic Soil (Mt CO2e)",
         null
        ],
        [
         "269",
         "EN.GHG.CO2.MT.CE.AR5",
         "Carbon dioxide (CO2) emissions (total) excluding LULUCF (Mt CO2e)",
         null
        ],
        [
         "270",
         "EN.GHG.CO2.PC.CE.AR5",
         "Carbon dioxide (CO2) emissions excluding LULUCF per capita (t CO2e/capita)",
         null
        ],
        [
         "271",
         "EN.GHG.CO2.PI.MT.CE.AR5",
         "Carbon dioxide (CO2) emissions from Power Industry (Energy) (Mt CO2e)",
         null
        ],
        [
         "272",
         "EN.GHG.CO2.RT.GDP.KD",
         "Carbon intensity of GDP (kg CO2e per constant 2021 US$ of GDP)",
         null
        ],
        [
         "273",
         "EN.GHG.CO2.RT.GDP.PP.KD",
         "Carbon intensity of GDP (kg CO2e per 2021 PPP $)",
         null
        ],
        [
         "274",
         "EN.GHG.CO2.TR.MT.CE.AR5",
         "Carbon dioxide (CO2) emissions from Transport (Energy) (Mt CO2e)",
         null
        ],
        [
         "275",
         "EN.GHG.CO2.WA.MT.CE.AR5",
         "Carbon dioxide (CO2) emissions from Waste (Mt CO2e)",
         null
        ],
        [
         "276",
         "EN.GHG.CO2.ZG.AR5",
         "Carbon dioxide (CO2) emissions (total) excluding LULUCF (% change from 1990)",
         null
        ],
        [
         "277",
         "EN.GHG.FGAS.IP.MT.CE.AR5",
         "Fluorinated greenhouse gases (F-gases) emissions from Industrial Processes (Mt CO2e)",
         null
        ],
        [
         "278",
         "EN.GHG.N2O.AG.MT.CE.AR5",
         "Nitrous oxide (N2O) emissions from Agriculture (Mt CO2e)",
         null
        ],
        [
         "279",
         "EN.GHG.N2O.BU.MT.CE.AR5",
         "Nitrous oxide (N2O) emissions from Building (Energy) (Mt CO2e)",
         null
        ],
        [
         "280",
         "EN.GHG.N2O.FE.MT.CE.AR5",
         "Nitrous oxide (N2O) emissions from Fugitive Emissions (Energy) (Mt CO2e)",
         null
        ],
        [
         "281",
         "EN.GHG.N2O.IC.MT.CE.AR5",
         "Nitrous oxide (N2O) emissions from Industrial Combustion (Energy) (Mt CO2e)",
         null
        ],
        [
         "282",
         "EN.GHG.N2O.IP.MT.CE.AR5",
         "Nitrous oxide (N2O) emissions from Industrial Processes (Mt CO2e)",
         null
        ],
        [
         "283",
         "EN.GHG.N2O.MT.CE.AR5",
         "Nitrous oxide (N2O) emissions (total) excluding LULUCF (Mt CO2e)",
         null
        ],
        [
         "284",
         "EN.GHG.N2O.PI.MT.CE.AR5",
         "Nitrous oxide (N2O) emissions from Power Industry (Energy) (Mt CO2e)",
         null
        ],
        [
         "285",
         "EN.GHG.N2O.TR.MT.CE.AR5",
         "Nitrous oxide (N2O) emissions from Transport (Energy) (Mt CO2e)",
         null
        ],
        [
         "286",
         "EN.GHG.N2O.WA.MT.CE.AR5",
         "Nitrous oxide (N2O) emissions from Waste (Mt CO2e)",
         null
        ],
        [
         "287",
         "EN.GHG.N2O.ZG.AR5",
         "Nitrous oxide (N2O) emissions (total) excluding LULUCF (% change from 1990)",
         null
        ],
        [
         "288",
         "EN.GHG.TOT.ZG.AR5",
         "Total greenhouse gas emissions excluding LULUCF (% change from 1990)",
         null
        ]
       ],
       "shape": {
        "columns": 3,
        "rows": 43
       }
      },
      "text/html": [
       "<div>\n",
       "<style scoped>\n",
       "    .dataframe tbody tr th:only-of-type {\n",
       "        vertical-align: middle;\n",
       "    }\n",
       "\n",
       "    .dataframe tbody tr th {\n",
       "        vertical-align: top;\n",
       "    }\n",
       "\n",
       "    .dataframe thead th {\n",
       "        text-align: right;\n",
       "    }\n",
       "</style>\n",
       "<table border=\"1\" class=\"dataframe\">\n",
       "  <thead>\n",
       "    <tr style=\"text-align: right;\">\n",
       "      <th></th>\n",
       "      <th>Indicator Code</th>\n",
       "      <th>Indicator Name</th>\n",
       "      <th>Topic</th>\n",
       "    </tr>\n",
       "  </thead>\n",
       "  <tbody>\n",
       "    <tr>\n",
       "      <th>246</th>\n",
       "      <td>EN.GHG.ALL.LU.MT.CE.AR5</td>\n",
       "      <td>Total greenhouse gas emissions including LULUC...</td>\n",
       "      <td>NaN</td>\n",
       "    </tr>\n",
       "    <tr>\n",
       "      <th>247</th>\n",
       "      <td>EN.GHG.ALL.MT.CE.AR5</td>\n",
       "      <td>Total greenhouse gas emissions excluding LULUC...</td>\n",
       "      <td>NaN</td>\n",
       "    </tr>\n",
       "    <tr>\n",
       "      <th>248</th>\n",
       "      <td>EN.GHG.ALL.PC.CE.AR5</td>\n",
       "      <td>Total greenhouse gas emissions per capita excl...</td>\n",
       "      <td>NaN</td>\n",
       "    </tr>\n",
       "    <tr>\n",
       "      <th>249</th>\n",
       "      <td>EN.GHG.CH4.AG.MT.CE.AR5</td>\n",
       "      <td>Methane (CH4) emissions from Agriculture (Mt C...</td>\n",
       "      <td>NaN</td>\n",
       "    </tr>\n",
       "    <tr>\n",
       "      <th>250</th>\n",
       "      <td>EN.GHG.CH4.BU.MT.CE.AR5</td>\n",
       "      <td>Methane (CH4) emissions from Building (Energy)...</td>\n",
       "      <td>NaN</td>\n",
       "    </tr>\n",
       "    <tr>\n",
       "      <th>251</th>\n",
       "      <td>EN.GHG.CH4.FE.MT.CE.AR5</td>\n",
       "      <td>Methane (CH4) emissions from Fugitive Emission...</td>\n",
       "      <td>NaN</td>\n",
       "    </tr>\n",
       "    <tr>\n",
       "      <th>252</th>\n",
       "      <td>EN.GHG.CH4.IC.MT.CE.AR5</td>\n",
       "      <td>Methane (CH4) emissions from Industrial Combus...</td>\n",
       "      <td>NaN</td>\n",
       "    </tr>\n",
       "    <tr>\n",
       "      <th>253</th>\n",
       "      <td>EN.GHG.CH4.IP.MT.CE.AR5</td>\n",
       "      <td>Methane (CH4) emissions from Industrial Proces...</td>\n",
       "      <td>NaN</td>\n",
       "    </tr>\n",
       "    <tr>\n",
       "      <th>254</th>\n",
       "      <td>EN.GHG.CH4.MT.CE.AR5</td>\n",
       "      <td>Methane (CH4) emissions (total) excluding LULU...</td>\n",
       "      <td>NaN</td>\n",
       "    </tr>\n",
       "    <tr>\n",
       "      <th>255</th>\n",
       "      <td>EN.GHG.CH4.PI.MT.CE.AR5</td>\n",
       "      <td>Methane (CH4) emissions from Power Industry (E...</td>\n",
       "      <td>NaN</td>\n",
       "    </tr>\n",
       "    <tr>\n",
       "      <th>256</th>\n",
       "      <td>EN.GHG.CH4.TR.MT.CE.AR5</td>\n",
       "      <td>Methane (CH4) emissions from Transport (Energy...</td>\n",
       "      <td>NaN</td>\n",
       "    </tr>\n",
       "    <tr>\n",
       "      <th>257</th>\n",
       "      <td>EN.GHG.CH4.WA.MT.CE.AR5</td>\n",
       "      <td>Methane (CH4) emissions from Waste (Mt CO2e)</td>\n",
       "      <td>NaN</td>\n",
       "    </tr>\n",
       "    <tr>\n",
       "      <th>258</th>\n",
       "      <td>EN.GHG.CH4.ZG.AR5</td>\n",
       "      <td>Methane (CH4) emissions (total) excluding LULU...</td>\n",
       "      <td>NaN</td>\n",
       "    </tr>\n",
       "    <tr>\n",
       "      <th>259</th>\n",
       "      <td>EN.GHG.CO2.AG.MT.CE.AR5</td>\n",
       "      <td>Carbon dioxide (CO2) emissions from Agricultur...</td>\n",
       "      <td>NaN</td>\n",
       "    </tr>\n",
       "    <tr>\n",
       "      <th>260</th>\n",
       "      <td>EN.GHG.CO2.BU.MT.CE.AR5</td>\n",
       "      <td>Carbon dioxide (CO2) emissions from Building (...</td>\n",
       "      <td>NaN</td>\n",
       "    </tr>\n",
       "    <tr>\n",
       "      <th>261</th>\n",
       "      <td>EN.GHG.CO2.FE.MT.CE.AR5</td>\n",
       "      <td>Carbon dioxide (CO2) emissions from Fugitive E...</td>\n",
       "      <td>NaN</td>\n",
       "    </tr>\n",
       "    <tr>\n",
       "      <th>262</th>\n",
       "      <td>EN.GHG.CO2.IC.MT.CE.AR5</td>\n",
       "      <td>Carbon dioxide (CO2) emissions from Industrial...</td>\n",
       "      <td>NaN</td>\n",
       "    </tr>\n",
       "    <tr>\n",
       "      <th>263</th>\n",
       "      <td>EN.GHG.CO2.IP.MT.CE.AR5</td>\n",
       "      <td>Carbon dioxide (CO2) emissions from Industrial...</td>\n",
       "      <td>NaN</td>\n",
       "    </tr>\n",
       "    <tr>\n",
       "      <th>264</th>\n",
       "      <td>EN.GHG.CO2.LU.DF.MT.CE.AR5</td>\n",
       "      <td>Carbon dioxide (CO2) net fluxes from LULUCF - ...</td>\n",
       "      <td>NaN</td>\n",
       "    </tr>\n",
       "    <tr>\n",
       "      <th>265</th>\n",
       "      <td>EN.GHG.CO2.LU.FL.MT.CE.AR5</td>\n",
       "      <td>Carbon dioxide (CO2) net fluxes from LULUCF - ...</td>\n",
       "      <td>NaN</td>\n",
       "    </tr>\n",
       "    <tr>\n",
       "      <th>266</th>\n",
       "      <td>EN.GHG.CO2.LU.MT.CE.AR5</td>\n",
       "      <td>Carbon dioxide (CO2) net fluxes from LULUCF - ...</td>\n",
       "      <td>NaN</td>\n",
       "    </tr>\n",
       "    <tr>\n",
       "      <th>267</th>\n",
       "      <td>EN.GHG.CO2.LU.OL.MT.CE.AR5</td>\n",
       "      <td>Carbon dioxide (CO2) net fluxes from LULUCF - ...</td>\n",
       "      <td>NaN</td>\n",
       "    </tr>\n",
       "    <tr>\n",
       "      <th>268</th>\n",
       "      <td>EN.GHG.CO2.LU.OS.MT.CE.AR5</td>\n",
       "      <td>Carbon dioxide (CO2) net fluxes from LULUCF - ...</td>\n",
       "      <td>NaN</td>\n",
       "    </tr>\n",
       "    <tr>\n",
       "      <th>269</th>\n",
       "      <td>EN.GHG.CO2.MT.CE.AR5</td>\n",
       "      <td>Carbon dioxide (CO2) emissions (total) excludi...</td>\n",
       "      <td>NaN</td>\n",
       "    </tr>\n",
       "    <tr>\n",
       "      <th>270</th>\n",
       "      <td>EN.GHG.CO2.PC.CE.AR5</td>\n",
       "      <td>Carbon dioxide (CO2) emissions excluding LULUC...</td>\n",
       "      <td>NaN</td>\n",
       "    </tr>\n",
       "    <tr>\n",
       "      <th>271</th>\n",
       "      <td>EN.GHG.CO2.PI.MT.CE.AR5</td>\n",
       "      <td>Carbon dioxide (CO2) emissions from Power Indu...</td>\n",
       "      <td>NaN</td>\n",
       "    </tr>\n",
       "    <tr>\n",
       "      <th>272</th>\n",
       "      <td>EN.GHG.CO2.RT.GDP.KD</td>\n",
       "      <td>Carbon intensity of GDP (kg CO2e per constant ...</td>\n",
       "      <td>NaN</td>\n",
       "    </tr>\n",
       "    <tr>\n",
       "      <th>273</th>\n",
       "      <td>EN.GHG.CO2.RT.GDP.PP.KD</td>\n",
       "      <td>Carbon intensity of GDP (kg CO2e per 2021 PPP $)</td>\n",
       "      <td>NaN</td>\n",
       "    </tr>\n",
       "    <tr>\n",
       "      <th>274</th>\n",
       "      <td>EN.GHG.CO2.TR.MT.CE.AR5</td>\n",
       "      <td>Carbon dioxide (CO2) emissions from Transport ...</td>\n",
       "      <td>NaN</td>\n",
       "    </tr>\n",
       "    <tr>\n",
       "      <th>275</th>\n",
       "      <td>EN.GHG.CO2.WA.MT.CE.AR5</td>\n",
       "      <td>Carbon dioxide (CO2) emissions from Waste (Mt ...</td>\n",
       "      <td>NaN</td>\n",
       "    </tr>\n",
       "    <tr>\n",
       "      <th>276</th>\n",
       "      <td>EN.GHG.CO2.ZG.AR5</td>\n",
       "      <td>Carbon dioxide (CO2) emissions (total) excludi...</td>\n",
       "      <td>NaN</td>\n",
       "    </tr>\n",
       "    <tr>\n",
       "      <th>277</th>\n",
       "      <td>EN.GHG.FGAS.IP.MT.CE.AR5</td>\n",
       "      <td>Fluorinated greenhouse gases (F-gases) emissio...</td>\n",
       "      <td>NaN</td>\n",
       "    </tr>\n",
       "    <tr>\n",
       "      <th>278</th>\n",
       "      <td>EN.GHG.N2O.AG.MT.CE.AR5</td>\n",
       "      <td>Nitrous oxide (N2O) emissions from Agriculture...</td>\n",
       "      <td>NaN</td>\n",
       "    </tr>\n",
       "    <tr>\n",
       "      <th>279</th>\n",
       "      <td>EN.GHG.N2O.BU.MT.CE.AR5</td>\n",
       "      <td>Nitrous oxide (N2O) emissions from Building (E...</td>\n",
       "      <td>NaN</td>\n",
       "    </tr>\n",
       "    <tr>\n",
       "      <th>280</th>\n",
       "      <td>EN.GHG.N2O.FE.MT.CE.AR5</td>\n",
       "      <td>Nitrous oxide (N2O) emissions from Fugitive Em...</td>\n",
       "      <td>NaN</td>\n",
       "    </tr>\n",
       "    <tr>\n",
       "      <th>281</th>\n",
       "      <td>EN.GHG.N2O.IC.MT.CE.AR5</td>\n",
       "      <td>Nitrous oxide (N2O) emissions from Industrial ...</td>\n",
       "      <td>NaN</td>\n",
       "    </tr>\n",
       "    <tr>\n",
       "      <th>282</th>\n",
       "      <td>EN.GHG.N2O.IP.MT.CE.AR5</td>\n",
       "      <td>Nitrous oxide (N2O) emissions from Industrial ...</td>\n",
       "      <td>NaN</td>\n",
       "    </tr>\n",
       "    <tr>\n",
       "      <th>283</th>\n",
       "      <td>EN.GHG.N2O.MT.CE.AR5</td>\n",
       "      <td>Nitrous oxide (N2O) emissions (total) excludin...</td>\n",
       "      <td>NaN</td>\n",
       "    </tr>\n",
       "    <tr>\n",
       "      <th>284</th>\n",
       "      <td>EN.GHG.N2O.PI.MT.CE.AR5</td>\n",
       "      <td>Nitrous oxide (N2O) emissions from Power Indus...</td>\n",
       "      <td>NaN</td>\n",
       "    </tr>\n",
       "    <tr>\n",
       "      <th>285</th>\n",
       "      <td>EN.GHG.N2O.TR.MT.CE.AR5</td>\n",
       "      <td>Nitrous oxide (N2O) emissions from Transport (...</td>\n",
       "      <td>NaN</td>\n",
       "    </tr>\n",
       "    <tr>\n",
       "      <th>286</th>\n",
       "      <td>EN.GHG.N2O.WA.MT.CE.AR5</td>\n",
       "      <td>Nitrous oxide (N2O) emissions from Waste (Mt C...</td>\n",
       "      <td>NaN</td>\n",
       "    </tr>\n",
       "    <tr>\n",
       "      <th>287</th>\n",
       "      <td>EN.GHG.N2O.ZG.AR5</td>\n",
       "      <td>Nitrous oxide (N2O) emissions (total) excludin...</td>\n",
       "      <td>NaN</td>\n",
       "    </tr>\n",
       "    <tr>\n",
       "      <th>288</th>\n",
       "      <td>EN.GHG.TOT.ZG.AR5</td>\n",
       "      <td>Total greenhouse gas emissions excluding LULUC...</td>\n",
       "      <td>NaN</td>\n",
       "    </tr>\n",
       "  </tbody>\n",
       "</table>\n",
       "</div>"
      ],
      "text/plain": [
       "                 Indicator Code  \\\n",
       "246     EN.GHG.ALL.LU.MT.CE.AR5   \n",
       "247        EN.GHG.ALL.MT.CE.AR5   \n",
       "248        EN.GHG.ALL.PC.CE.AR5   \n",
       "249     EN.GHG.CH4.AG.MT.CE.AR5   \n",
       "250     EN.GHG.CH4.BU.MT.CE.AR5   \n",
       "251     EN.GHG.CH4.FE.MT.CE.AR5   \n",
       "252     EN.GHG.CH4.IC.MT.CE.AR5   \n",
       "253     EN.GHG.CH4.IP.MT.CE.AR5   \n",
       "254        EN.GHG.CH4.MT.CE.AR5   \n",
       "255     EN.GHG.CH4.PI.MT.CE.AR5   \n",
       "256     EN.GHG.CH4.TR.MT.CE.AR5   \n",
       "257     EN.GHG.CH4.WA.MT.CE.AR5   \n",
       "258           EN.GHG.CH4.ZG.AR5   \n",
       "259     EN.GHG.CO2.AG.MT.CE.AR5   \n",
       "260     EN.GHG.CO2.BU.MT.CE.AR5   \n",
       "261     EN.GHG.CO2.FE.MT.CE.AR5   \n",
       "262     EN.GHG.CO2.IC.MT.CE.AR5   \n",
       "263     EN.GHG.CO2.IP.MT.CE.AR5   \n",
       "264  EN.GHG.CO2.LU.DF.MT.CE.AR5   \n",
       "265  EN.GHG.CO2.LU.FL.MT.CE.AR5   \n",
       "266     EN.GHG.CO2.LU.MT.CE.AR5   \n",
       "267  EN.GHG.CO2.LU.OL.MT.CE.AR5   \n",
       "268  EN.GHG.CO2.LU.OS.MT.CE.AR5   \n",
       "269        EN.GHG.CO2.MT.CE.AR5   \n",
       "270        EN.GHG.CO2.PC.CE.AR5   \n",
       "271     EN.GHG.CO2.PI.MT.CE.AR5   \n",
       "272        EN.GHG.CO2.RT.GDP.KD   \n",
       "273     EN.GHG.CO2.RT.GDP.PP.KD   \n",
       "274     EN.GHG.CO2.TR.MT.CE.AR5   \n",
       "275     EN.GHG.CO2.WA.MT.CE.AR5   \n",
       "276           EN.GHG.CO2.ZG.AR5   \n",
       "277    EN.GHG.FGAS.IP.MT.CE.AR5   \n",
       "278     EN.GHG.N2O.AG.MT.CE.AR5   \n",
       "279     EN.GHG.N2O.BU.MT.CE.AR5   \n",
       "280     EN.GHG.N2O.FE.MT.CE.AR5   \n",
       "281     EN.GHG.N2O.IC.MT.CE.AR5   \n",
       "282     EN.GHG.N2O.IP.MT.CE.AR5   \n",
       "283        EN.GHG.N2O.MT.CE.AR5   \n",
       "284     EN.GHG.N2O.PI.MT.CE.AR5   \n",
       "285     EN.GHG.N2O.TR.MT.CE.AR5   \n",
       "286     EN.GHG.N2O.WA.MT.CE.AR5   \n",
       "287           EN.GHG.N2O.ZG.AR5   \n",
       "288           EN.GHG.TOT.ZG.AR5   \n",
       "\n",
       "                                        Indicator Name Topic  \n",
       "246  Total greenhouse gas emissions including LULUC...   NaN  \n",
       "247  Total greenhouse gas emissions excluding LULUC...   NaN  \n",
       "248  Total greenhouse gas emissions per capita excl...   NaN  \n",
       "249  Methane (CH4) emissions from Agriculture (Mt C...   NaN  \n",
       "250  Methane (CH4) emissions from Building (Energy)...   NaN  \n",
       "251  Methane (CH4) emissions from Fugitive Emission...   NaN  \n",
       "252  Methane (CH4) emissions from Industrial Combus...   NaN  \n",
       "253  Methane (CH4) emissions from Industrial Proces...   NaN  \n",
       "254  Methane (CH4) emissions (total) excluding LULU...   NaN  \n",
       "255  Methane (CH4) emissions from Power Industry (E...   NaN  \n",
       "256  Methane (CH4) emissions from Transport (Energy...   NaN  \n",
       "257       Methane (CH4) emissions from Waste (Mt CO2e)   NaN  \n",
       "258  Methane (CH4) emissions (total) excluding LULU...   NaN  \n",
       "259  Carbon dioxide (CO2) emissions from Agricultur...   NaN  \n",
       "260  Carbon dioxide (CO2) emissions from Building (...   NaN  \n",
       "261  Carbon dioxide (CO2) emissions from Fugitive E...   NaN  \n",
       "262  Carbon dioxide (CO2) emissions from Industrial...   NaN  \n",
       "263  Carbon dioxide (CO2) emissions from Industrial...   NaN  \n",
       "264  Carbon dioxide (CO2) net fluxes from LULUCF - ...   NaN  \n",
       "265  Carbon dioxide (CO2) net fluxes from LULUCF - ...   NaN  \n",
       "266  Carbon dioxide (CO2) net fluxes from LULUCF - ...   NaN  \n",
       "267  Carbon dioxide (CO2) net fluxes from LULUCF - ...   NaN  \n",
       "268  Carbon dioxide (CO2) net fluxes from LULUCF - ...   NaN  \n",
       "269  Carbon dioxide (CO2) emissions (total) excludi...   NaN  \n",
       "270  Carbon dioxide (CO2) emissions excluding LULUC...   NaN  \n",
       "271  Carbon dioxide (CO2) emissions from Power Indu...   NaN  \n",
       "272  Carbon intensity of GDP (kg CO2e per constant ...   NaN  \n",
       "273   Carbon intensity of GDP (kg CO2e per 2021 PPP $)   NaN  \n",
       "274  Carbon dioxide (CO2) emissions from Transport ...   NaN  \n",
       "275  Carbon dioxide (CO2) emissions from Waste (Mt ...   NaN  \n",
       "276  Carbon dioxide (CO2) emissions (total) excludi...   NaN  \n",
       "277  Fluorinated greenhouse gases (F-gases) emissio...   NaN  \n",
       "278  Nitrous oxide (N2O) emissions from Agriculture...   NaN  \n",
       "279  Nitrous oxide (N2O) emissions from Building (E...   NaN  \n",
       "280  Nitrous oxide (N2O) emissions from Fugitive Em...   NaN  \n",
       "281  Nitrous oxide (N2O) emissions from Industrial ...   NaN  \n",
       "282  Nitrous oxide (N2O) emissions from Industrial ...   NaN  \n",
       "283  Nitrous oxide (N2O) emissions (total) excludin...   NaN  \n",
       "284  Nitrous oxide (N2O) emissions from Power Indus...   NaN  \n",
       "285  Nitrous oxide (N2O) emissions from Transport (...   NaN  \n",
       "286  Nitrous oxide (N2O) emissions from Waste (Mt C...   NaN  \n",
       "287  Nitrous oxide (N2O) emissions (total) excludin...   NaN  \n",
       "288  Total greenhouse gas emissions excluding LULUC...   NaN  "
      ]
     },
     "execution_count": 28,
     "metadata": {},
     "output_type": "execute_result"
    }
   ],
   "source": [
    "series_ref[series_ref['Topic'].isna()]"
   ]
  },
  {
   "cell_type": "code",
   "execution_count": 36,
   "id": "1a56a3ad",
   "metadata": {},
   "outputs": [
    {
     "data": {
      "application/vnd.microsoft.datawrangler.viewer.v0+json": {
       "columns": [
        {
         "name": "index",
         "rawType": "int64",
         "type": "integer"
        },
        {
         "name": "Indicator Code",
         "rawType": "object",
         "type": "string"
        },
        {
         "name": "Indicator Name",
         "rawType": "object",
         "type": "string"
        },
        {
         "name": "Topic",
         "rawType": "object",
         "type": "string"
        }
       ],
       "conversionMethod": "pd.DataFrame",
       "ref": "499ec899-8918-4d8b-a9d2-4545c469a2a3",
       "rows": [],
       "shape": {
        "columns": 3,
        "rows": 0
       }
      },
      "text/html": [
       "<div>\n",
       "<style scoped>\n",
       "    .dataframe tbody tr th:only-of-type {\n",
       "        vertical-align: middle;\n",
       "    }\n",
       "\n",
       "    .dataframe tbody tr th {\n",
       "        vertical-align: top;\n",
       "    }\n",
       "\n",
       "    .dataframe thead th {\n",
       "        text-align: right;\n",
       "    }\n",
       "</style>\n",
       "<table border=\"1\" class=\"dataframe\">\n",
       "  <thead>\n",
       "    <tr style=\"text-align: right;\">\n",
       "      <th></th>\n",
       "      <th>Indicator Code</th>\n",
       "      <th>Indicator Name</th>\n",
       "      <th>Topic</th>\n",
       "    </tr>\n",
       "  </thead>\n",
       "  <tbody>\n",
       "  </tbody>\n",
       "</table>\n",
       "</div>"
      ],
      "text/plain": [
       "Empty DataFrame\n",
       "Columns: [Indicator Code, Indicator Name, Topic]\n",
       "Index: []"
      ]
     },
     "execution_count": 36,
     "metadata": {},
     "output_type": "execute_result"
    }
   ],
   "source": [
    "keywords = {\n",
    "    'Climate': [\n",
    "        'carbon', 'nitrous', 'oxide', 'greenhouse gas','methane']\n",
    "    \n",
    "    # add more as needed\n",
    "}\n",
    "\n",
    "for name in series_ref['Indicator Name']:\n",
    "    for keyword, word in keywords.items():\n",
    "        if any(word in name.lower() for word in word):\n",
    "            series_ref.loc[series_ref['Indicator Name'] == name, 'Topic'] = keyword\n",
    "            break\n",
    "\n",
    "series_ref[series_ref['Topic'].isna()]"
   ]
  },
  {
   "cell_type": "code",
   "execution_count": 37,
   "id": "b677e37a",
   "metadata": {},
   "outputs": [],
   "source": [
    "series_ref.to_csv('output/reference/indicator_lookup.csv')"
   ]
  }
 ],
 "metadata": {
  "kernelspec": {
   "display_name": "Python 3",
   "language": "python",
   "name": "python3"
  },
  "language_info": {
   "codemirror_mode": {
    "name": "ipython",
    "version": 3
   },
   "file_extension": ".py",
   "mimetype": "text/x-python",
   "name": "python",
   "nbconvert_exporter": "python",
   "pygments_lexer": "ipython3",
   "version": "3.11.3"
  }
 },
 "nbformat": 4,
 "nbformat_minor": 5
}
