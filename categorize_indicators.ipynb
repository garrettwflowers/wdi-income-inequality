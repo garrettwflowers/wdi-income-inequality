{
 "cells": [
  {
   "cell_type": "code",
   "execution_count": 41,
   "id": "3904b5e9",
   "metadata": {},
   "outputs": [],
   "source": [
    "import pandas as pd\n",
    "import matplotlib.pyplot as plt\n",
    "import os\n",
    "os.makedirs('reference', exist_ok=True)"
   ]
  },
  {
   "cell_type": "code",
   "execution_count": 42,
   "id": "330627e4",
   "metadata": {},
   "outputs": [
    {
     "data": {
      "application/vnd.microsoft.datawrangler.viewer.v0+json": {
       "columns": [
        {
         "name": "index",
         "rawType": "int64",
         "type": "integer"
        },
        {
         "name": "Indicator Code",
         "rawType": "object",
         "type": "string"
        },
        {
         "name": "Indicator Name",
         "rawType": "object",
         "type": "string"
        },
        {
         "name": "Topic",
         "rawType": "object",
         "type": "unknown"
        }
       ],
       "conversionMethod": "pd.DataFrame",
       "ref": "e507ffa2-5731-451b-85df-cac2ace22fa9",
       "rows": [
        [
         "0",
         "AG.CON.FERT.PT.ZS",
         "Fertilizer consumption (% of fertilizer production)",
         "Environment: Agricultural production"
        ],
        [
         "1",
         "AG.CON.FERT.ZS",
         "Fertilizer consumption (kilograms per hectare of arable land)",
         "Environment: Agricultural production"
        ],
        [
         "2",
         "AG.LND.AGRI.K2",
         "Agricultural land (sq. km)",
         "Environment: Land use"
        ],
        [
         "3",
         "AG.LND.AGRI.ZS",
         "Agricultural land (% of land area)",
         "Environment: Land use"
        ],
        [
         "4",
         "AG.LND.ARBL.HA",
         "Arable land (hectares)",
         "Environment: Land use"
        ],
        [
         "5",
         "AG.LND.ARBL.HA.PC",
         "Arable land (hectares per person)",
         "Environment: Land use"
        ],
        [
         "6",
         "AG.LND.ARBL.ZS",
         "Arable land (% of land area)",
         "Environment: Land use"
        ],
        [
         "7",
         "AG.LND.CREL.HA",
         "Land under cereal production (hectares)",
         "Environment: Agricultural production"
        ],
        [
         "8",
         "AG.LND.CROP.ZS",
         "Permanent cropland (% of land area)",
         "Environment: Land use"
        ],
        [
         "9",
         "AG.LND.EL5M.RU.K2",
         "Rural land area where elevation is below 5 meters (sq. km)",
         "Environment: Land use"
        ],
        [
         "10",
         "AG.LND.EL5M.RU.ZS",
         "Rural land area where elevation is below 5 meters (% of total land area)",
         "Environment: Land use"
        ],
        [
         "11",
         "AG.LND.EL5M.UR.K2",
         "Urban land area where elevation is below 5 meters (sq. km)",
         "Environment: Land use"
        ],
        [
         "12",
         "AG.LND.EL5M.UR.ZS",
         "Urban land area where elevation is below 5 meters (% of total land area)",
         "Environment: Land use"
        ],
        [
         "13",
         "AG.LND.EL5M.ZS",
         "Land area where elevation is below 5 meters (% of total land area)",
         "Environment: Land use"
        ],
        [
         "14",
         "AG.LND.FRST.K2",
         "Forest area (sq. km)",
         "Environment: Land use"
        ],
        [
         "15",
         "AG.LND.FRST.ZS",
         "Forest area (% of land area)",
         "Environment: Land use"
        ],
        [
         "16",
         "AG.LND.IRIG.AG.ZS",
         "Agricultural irrigated land (% of total agricultural land)",
         "Environment: Land use"
        ],
        [
         "17",
         "AG.LND.PRCP.MM",
         "Average precipitation in depth (mm per year)",
         "Environment: Land use"
        ],
        [
         "18",
         "AG.LND.TOTL.K2",
         "Land area (sq. km)",
         "Environment: Land use"
        ],
        [
         "19",
         "AG.LND.TOTL.RU.K2",
         "Rural land area (sq. km)",
         "Environment: Land use"
        ],
        [
         "20",
         "AG.LND.TOTL.UR.K2",
         "Urban land area (sq. km)",
         "Environment: Land use"
        ],
        [
         "21",
         "AG.PRD.CREL.MT",
         "Cereal production (metric tons)",
         "Environment: Agricultural production"
        ],
        [
         "22",
         "AG.PRD.CROP.XD",
         "Crop production index (2014-2016 = 100)",
         "Environment: Agricultural production"
        ],
        [
         "23",
         "AG.PRD.FOOD.XD",
         "Food production index (2014-2016 = 100)",
         "Environment: Agricultural production"
        ],
        [
         "24",
         "AG.PRD.LVSK.XD",
         "Livestock production index (2014-2016 = 100)",
         "Environment: Agricultural production"
        ],
        [
         "25",
         "AG.SRF.TOTL.K2",
         "Surface area (sq. km)",
         "Environment: Land use"
        ],
        [
         "26",
         "AG.YLD.CREL.KG",
         "Cereal yield (kg per hectare)",
         "Environment: Agricultural production"
        ],
        [
         "27",
         "BG.GSR.NFSV.GD.ZS",
         "Trade in services (% of GDP)",
         "Economic Policy & Debt: Balance of payments: Current account: Goods, services & income"
        ],
        [
         "28",
         "BM.GSR.CMCP.ZS",
         "Communications, computer, etc. (% of service imports, BoP)",
         "Economic Policy & Debt: Balance of payments: Current account: Goods, services & income"
        ],
        [
         "29",
         "BM.GSR.FCTY.CD",
         "Primary income payments (BoP, current US$)",
         "Economic Policy & Debt: Balance of payments: Current account: Goods, services & income"
        ],
        [
         "30",
         "BM.GSR.GNFS.CD",
         "Imports of goods and services (BoP, current US$)",
         "Economic Policy & Debt: Balance of payments: Current account: Goods, services & income"
        ],
        [
         "31",
         "BM.GSR.INSF.ZS",
         "Insurance and financial services (% of service imports, BoP)",
         "Economic Policy & Debt: Balance of payments: Current account: Goods, services & income"
        ],
        [
         "32",
         "BM.GSR.MRCH.CD",
         "Goods imports (BoP, current US$)",
         "Economic Policy & Debt: Balance of payments: Current account: Goods, services & income"
        ],
        [
         "33",
         "BM.GSR.NFSV.CD",
         "Service imports (BoP, current US$)",
         "Economic Policy & Debt: Balance of payments: Current account: Goods, services & income"
        ],
        [
         "34",
         "BM.GSR.ROYL.CD",
         "Charges for the use of intellectual property, payments (BoP, current US$)",
         "Economic Policy & Debt: Balance of payments: Current account: Goods, services & income"
        ],
        [
         "35",
         "BM.GSR.TOTL.CD",
         "Imports of goods, services and primary income (BoP, current US$)",
         "Economic Policy & Debt: Balance of payments: Current account: Goods, services & income"
        ],
        [
         "36",
         "BM.GSR.TRAN.ZS",
         "Transport services (% of service imports, BoP)",
         "Economic Policy & Debt: Balance of payments: Current account: Goods, services & income"
        ],
        [
         "37",
         "BM.GSR.TRVL.ZS",
         "Travel services (% of service imports, BoP)",
         "Economic Policy & Debt: Balance of payments: Current account: Goods, services & income"
        ],
        [
         "38",
         "BM.KLT.DINV.CD.WD",
         "Foreign direct investment, net outflows (BoP, current US$)",
         "Economic Policy & Debt: Balance of payments: Capital & financial account"
        ],
        [
         "39",
         "BM.KLT.DINV.WD.GD.ZS",
         "Foreign direct investment, net outflows (% of GDP)",
         "Economic Policy & Debt: Balance of payments: Capital & financial account"
        ],
        [
         "40",
         "BM.TRF.PRVT.CD",
         "Secondary income, other sectors, payments (BoP, current US$)",
         "Economic Policy & Debt: Balance of payments: Current account: Transfers"
        ],
        [
         "41",
         "BM.TRF.PWKR.CD.DT",
         "Personal remittances, paid (current US$)",
         "Economic Policy & Debt: Balance of payments: Current account: Transfers"
        ],
        [
         "42",
         "BN.CAB.XOKA.CD",
         "Current account balance (BoP, current US$)",
         "Economic Policy & Debt: Balance of payments: Current account: Balances"
        ],
        [
         "43",
         "BN.CAB.XOKA.GD.ZS",
         "Current account balance (% of GDP)",
         "Economic Policy & Debt: Balance of payments: Current account: Balances"
        ],
        [
         "44",
         "BN.FIN.TOTL.CD",
         "Net financial account (BoP, current US$)",
         "Economic Policy & Debt: Balance of payments: Capital & financial account"
        ],
        [
         "45",
         "BN.GSR.FCTY.CD",
         "Net primary income (BoP, current US$)",
         "Economic Policy & Debt: Balance of payments: Current account: Goods, services & income"
        ],
        [
         "46",
         "BN.GSR.GNFS.CD",
         "Net trade in goods and services (BoP, current US$)",
         "Economic Policy & Debt: Balance of payments: Current account: Balances"
        ],
        [
         "47",
         "BN.GSR.MRCH.CD",
         "Net trade in goods (BoP, current US$)",
         "Economic Policy & Debt: Balance of payments: Current account: Balances"
        ],
        [
         "48",
         "BN.KAC.EOMS.CD",
         "Net errors and omissions (BoP, current US$)",
         "Economic Policy & Debt: Balance of payments: Capital & financial account"
        ],
        [
         "49",
         "BN.KLT.DINV.CD",
         "Foreign direct investment, net (BoP, current US$)",
         "Economic Policy & Debt: Balance of payments: Capital & financial account"
        ]
       ],
       "shape": {
        "columns": 3,
        "rows": 1496
       }
      },
      "text/html": [
       "<div>\n",
       "<style scoped>\n",
       "    .dataframe tbody tr th:only-of-type {\n",
       "        vertical-align: middle;\n",
       "    }\n",
       "\n",
       "    .dataframe tbody tr th {\n",
       "        vertical-align: top;\n",
       "    }\n",
       "\n",
       "    .dataframe thead th {\n",
       "        text-align: right;\n",
       "    }\n",
       "</style>\n",
       "<table border=\"1\" class=\"dataframe\">\n",
       "  <thead>\n",
       "    <tr style=\"text-align: right;\">\n",
       "      <th></th>\n",
       "      <th>Indicator Code</th>\n",
       "      <th>Indicator Name</th>\n",
       "      <th>Topic</th>\n",
       "    </tr>\n",
       "  </thead>\n",
       "  <tbody>\n",
       "    <tr>\n",
       "      <th>0</th>\n",
       "      <td>AG.CON.FERT.PT.ZS</td>\n",
       "      <td>Fertilizer consumption (% of fertilizer produc...</td>\n",
       "      <td>Environment: Agricultural production</td>\n",
       "    </tr>\n",
       "    <tr>\n",
       "      <th>1</th>\n",
       "      <td>AG.CON.FERT.ZS</td>\n",
       "      <td>Fertilizer consumption (kilograms per hectare ...</td>\n",
       "      <td>Environment: Agricultural production</td>\n",
       "    </tr>\n",
       "    <tr>\n",
       "      <th>2</th>\n",
       "      <td>AG.LND.AGRI.K2</td>\n",
       "      <td>Agricultural land (sq. km)</td>\n",
       "      <td>Environment: Land use</td>\n",
       "    </tr>\n",
       "    <tr>\n",
       "      <th>3</th>\n",
       "      <td>AG.LND.AGRI.ZS</td>\n",
       "      <td>Agricultural land (% of land area)</td>\n",
       "      <td>Environment: Land use</td>\n",
       "    </tr>\n",
       "    <tr>\n",
       "      <th>4</th>\n",
       "      <td>AG.LND.ARBL.HA</td>\n",
       "      <td>Arable land (hectares)</td>\n",
       "      <td>Environment: Land use</td>\n",
       "    </tr>\n",
       "    <tr>\n",
       "      <th>...</th>\n",
       "      <td>...</td>\n",
       "      <td>...</td>\n",
       "      <td>...</td>\n",
       "    </tr>\n",
       "    <tr>\n",
       "      <th>1491</th>\n",
       "      <td>VC.IDP.NWDS</td>\n",
       "      <td>Internally displaced persons, new displacement...</td>\n",
       "      <td>Public Sector: Conflict &amp; fragility</td>\n",
       "    </tr>\n",
       "    <tr>\n",
       "      <th>1492</th>\n",
       "      <td>VC.IDP.TOCV</td>\n",
       "      <td>Internally displaced persons, total displaced ...</td>\n",
       "      <td>Public Sector: Conflict &amp; fragility</td>\n",
       "    </tr>\n",
       "    <tr>\n",
       "      <th>1493</th>\n",
       "      <td>VC.IHR.PSRC.FE.P5</td>\n",
       "      <td>Intentional homicides, female (per 100,000 fem...</td>\n",
       "      <td>Public Sector: Conflict &amp; fragility</td>\n",
       "    </tr>\n",
       "    <tr>\n",
       "      <th>1494</th>\n",
       "      <td>VC.IHR.PSRC.MA.P5</td>\n",
       "      <td>Intentional homicides, male (per 100,000 male)</td>\n",
       "      <td>Public Sector: Conflict &amp; fragility</td>\n",
       "    </tr>\n",
       "    <tr>\n",
       "      <th>1495</th>\n",
       "      <td>VC.IHR.PSRC.P5</td>\n",
       "      <td>Intentional homicides (per 100,000 people)</td>\n",
       "      <td>Public Sector: Conflict &amp; fragility</td>\n",
       "    </tr>\n",
       "  </tbody>\n",
       "</table>\n",
       "<p>1496 rows × 3 columns</p>\n",
       "</div>"
      ],
      "text/plain": [
       "         Indicator Code                                     Indicator Name  \\\n",
       "0     AG.CON.FERT.PT.ZS  Fertilizer consumption (% of fertilizer produc...   \n",
       "1        AG.CON.FERT.ZS  Fertilizer consumption (kilograms per hectare ...   \n",
       "2        AG.LND.AGRI.K2                         Agricultural land (sq. km)   \n",
       "3        AG.LND.AGRI.ZS                 Agricultural land (% of land area)   \n",
       "4        AG.LND.ARBL.HA                             Arable land (hectares)   \n",
       "...                 ...                                                ...   \n",
       "1491        VC.IDP.NWDS  Internally displaced persons, new displacement...   \n",
       "1492        VC.IDP.TOCV  Internally displaced persons, total displaced ...   \n",
       "1493  VC.IHR.PSRC.FE.P5  Intentional homicides, female (per 100,000 fem...   \n",
       "1494  VC.IHR.PSRC.MA.P5     Intentional homicides, male (per 100,000 male)   \n",
       "1495     VC.IHR.PSRC.P5         Intentional homicides (per 100,000 people)   \n",
       "\n",
       "                                     Topic  \n",
       "0     Environment: Agricultural production  \n",
       "1     Environment: Agricultural production  \n",
       "2                    Environment: Land use  \n",
       "3                    Environment: Land use  \n",
       "4                    Environment: Land use  \n",
       "...                                    ...  \n",
       "1491   Public Sector: Conflict & fragility  \n",
       "1492   Public Sector: Conflict & fragility  \n",
       "1493   Public Sector: Conflict & fragility  \n",
       "1494   Public Sector: Conflict & fragility  \n",
       "1495   Public Sector: Conflict & fragility  \n",
       "\n",
       "[1496 rows x 3 columns]"
      ]
     },
     "execution_count": 42,
     "metadata": {},
     "output_type": "execute_result"
    }
   ],
   "source": [
    "# series_ref = pd.read_csv('input/reference/WDISeries.csv', usecols=['Series Code', 'Topic'])\n",
    "series_ref = pd.read_csv('input/reference/WDISeries.csv', usecols=['Series Code', 'Indicator Name', 'Topic'])\n",
    "series_ref = series_ref[['Series Code', 'Indicator Name', 'Topic']].rename(columns={'Series Code': 'Indicator Code'})\n",
    "series_ref"
   ]
  },
  {
   "cell_type": "code",
   "execution_count": 43,
   "id": "3b59a885",
   "metadata": {},
   "outputs": [
    {
     "name": "stdout",
     "output_type": "stream",
     "text": [
      "Missing topics: 43\n"
     ]
    }
   ],
   "source": [
    "print(f\"Missing topics: {series_ref['Topic'].isna().sum()}\")\n",
    "# series_ref[series_ref['Topic'].isna()]"
   ]
  },
  {
   "cell_type": "code",
   "execution_count": 46,
   "id": "1a56a3ad",
   "metadata": {},
   "outputs": [
    {
     "name": "stdout",
     "output_type": "stream",
     "text": [
      "Missing topics: 0\n"
     ]
    }
   ],
   "source": [
    "keywords = {\n",
    "    'Climate': [\n",
    "        'carbon', 'nitrous', 'oxide', 'greenhouse gas','methane']\n",
    "    \n",
    "    # add more as needed\n",
    "}\n",
    "\n",
    "for name in series_ref['Indicator Name']:\n",
    "    for keyword, word in keywords.items():\n",
    "        if any(word in name.lower() for word in word):\n",
    "            series_ref.loc[series_ref['Indicator Name'] == name, 'Topic'] = keyword\n",
    "            break\n",
    "\n",
    "print(f\"Missing topics: {series_ref['Topic'].isna().sum()}\")"
   ]
  },
  {
   "cell_type": "code",
   "execution_count": 45,
   "id": "b677e37a",
   "metadata": {},
   "outputs": [],
   "source": [
    "series_ref.to_csv('output/reference/indicator_lookup.csv')"
   ]
  }
 ],
 "metadata": {
  "kernelspec": {
   "display_name": "Python 3",
   "language": "python",
   "name": "python3"
  },
  "language_info": {
   "codemirror_mode": {
    "name": "ipython",
    "version": 3
   },
   "file_extension": ".py",
   "mimetype": "text/x-python",
   "name": "python",
   "nbconvert_exporter": "python",
   "pygments_lexer": "ipython3",
   "version": "3.11.3"
  }
 },
 "nbformat": 4,
 "nbformat_minor": 5
}
