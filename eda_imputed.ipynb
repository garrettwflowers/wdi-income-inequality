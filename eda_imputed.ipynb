{
    "cells": [
        {
            "cell_type": "markdown",
            "metadata": {},
            "source": [
                "# Income Inequality Analysis with Imputed Data",
                "Recreating t-SNE analysis for income inequality data with imputed values"
            ]
        },
        {
            "cell_type": "markdown",
            "metadata": {},
            "source": [
                "## 1. Import Libraries"
            ]
        },
        {
            "cell_type": "code",
            "execution_count": null,
            "metadata": {},
            "source": [
                "import pandas as pd\n",
                "import plotly.express as px\n",
                "import os\n",
                "\n",
                "from sklearn.manifold import TSNE\n",
                "from sklearn.preprocessing import StandardScaler\n",
                "from sklearn.impute import SimpleImputer"
            ]
        },
        {
            "cell_type": "markdown",
            "metadata": {},
            "source": [
                "## 2. Load and Prepare Data"
            ]
        },
        {
            "cell_type": "code",
            "execution_count": null,
            "metadata": {},
            "source": [
                "# Load the data\n",
                "df = pd.read_csv('input/WDICSV.csv')\n",
                "\n",
                "# Transform to long format\n",
                "df_long = df.melt(id_vars=[\"Country Name\", \"Country Code\", \"Indicator Name\", \"Indicator Code\"],\n",
                "                  var_name=\"Year\", value_name=\"Value\")\n",
                "\n",
                "# Convert to wide format with indicators as columns\n",
                "df_wide = df_long.pivot_table(index=[\"Country Name\", \"Country Code\", \"Year\"],\n",
                "                              columns=\"Indicator Code\", values=\"Value\")\n",
                "\n",
                "df_wide = df_wide.reset_index()"
            ]
        },
        {
            "cell_type": "markdown",
            "metadata": {},
            "source": [
                "## 3. Feature Selection and Target Variables"
            ]
        },
        {
            "cell_type": "code",
            "execution_count": null,
            "metadata": {},
            "source": [
                "# Define target indicators for top and bottom 10% income share\n",
                "target_top = \"SI.DST.10TH.10\"   # Top 10% income share\n",
                "target_bottom = \"SI.DST.FRST.10\" # Bottom 10% income share\n",
                "\n",
                "# Exclude identifier columns and target columns from features\n",
                "exclude_columns = [\"Country Name\", \"Country Code\", \"Year\", target_top, target_bottom]\n",
                "feature_columns = [col for col in df_wide.columns if col not in exclude_columns]"
            ]
        },
        {
            "cell_type": "markdown",
            "metadata": {},
            "source": [
                "## 4. Data Imputation"
            ]
        },
        {
            "cell_type": "code",
            "execution_count": null,
            "metadata": {},
            "source": [
                "# Create a copy of the dataset for imputation\n",
                "df_imputed = df_wide.copy()\n",
                "\n",
                "# Setup imputer for feature columns using mean strategy\n",
                "feature_imputer = SimpleImputer(strategy='mean')\n",
                "df_imputed[feature_columns] = feature_imputer.fit_transform(df_imputed[feature_columns])\n",
                "\n",
                "# Impute target variables separately\n",
                "target_imputer = SimpleImputer(strategy='mean')\n",
                "target_cols = [target_top, target_bottom]\n",
                "df_imputed[target_cols] = target_imputer.fit_transform(df_imputed[target_cols])\n",
                "\n",
                "# Verify imputation by checking for NaN values\n",
                "print(f\"NaN values in imputed dataset: {df_imputed.isna().sum().sum()}\")"
            ]
        },
        {
            "cell_type": "markdown",
            "metadata": {},
            "source": [
                "## 5. Scale Features and Apply t-SNE"
            ]
        },
        {
            "cell_type": "code",
            "execution_count": null,
            "metadata": {},
            "source": [
                "# Extract feature matrix\n",
                "X = df_imputed[feature_columns]\n",
                "\n",
                "# Standardize features\n",
                "scaler = StandardScaler()\n",
                "X_scaled = scaler.fit_transform(X)\n",
                "\n",
                "# Apply t-SNE\n",
                "tsne = TSNE(n_components=2, random_state=42, perplexity=30, n_iter=1000)\n",
                "X_tsne = tsne.fit_transform(X_scaled)\n",
                "\n",
                "# Create DataFrame with t-SNE results\n",
                "tsne_df = pd.DataFrame(data=X_tsne, columns=['t-SNE Component 1', 't-SNE Component 2'])\n",
                "\n",
                "# Add metadata and target variables\n",
                "tsne_df['Country Name'] = df_imputed['Country Name']\n",
                "tsne_df['Country Code'] = df_imputed['Country Code']\n",
                "tsne_df['Year'] = df_imputed['Year']\n",
                "tsne_df[target_top] = df_imputed[target_top]\n",
                "tsne_df[target_bottom] = df_imputed[target_bottom]\n",
                "\n",
                "# Display the first few rows\n",
                "tsne_df.head()"
            ]
        },
        {
            "cell_type": "markdown",
            "metadata": {},
            "source": [
                "## 6. Create t-SNE Visualization for Top 10% Income Share"
            ]
        },
        {
            "cell_type": "code",
            "execution_count": null,
            "metadata": {},
            "source": [
                "# Create directory if it doesn't exist\n",
                "os.makedirs('output/tsne', exist_ok=True)\n",
                "\n",
                "# Visualization for top 10% income share\n",
                "fig = px.scatter(\n",
                "    tsne_df,\n",
                "    x='t-SNE Component 1',\n",
                "    y='t-SNE Component 2',\n",
                "    color=target_top,\n",
                "    color_continuous_scale='viridis',\n",
                "    opacity=0.7,\n",
                "    hover_data=['Country Name', 'Country Code', 'Year'],\n",
                "    title='t-SNE of Income Distribution Indicators (Top 10% Income Share)',\n",
                "    labels={\n",
                "        't-SNE Component 1': 't-SNE Component 1',\n",
                "        't-SNE Component 2': 't-SNE Component 2',\n",
                "        target_top: 'Top 10% Income Share'\n",
                "    }\n",
                ")\n",
                "fig.update_traces(marker=dict(size=8))\n",
                "fig.update_layout(\n",
                "    coloraxis_colorbar=dict(title='Top 10% Income Share'),\n",
                "    height=700,\n",
                "    width=900\n",
                ")\n",
                "\n",
                "# Save and display the figure\n",
                "fig.write_html('output/tsne/tsne_plot_top10_imputed.html', include_plotlyjs='cdn')\n",
                "fig.show()"
            ]
        },
        {
            "cell_type": "markdown",
            "metadata": {},
            "source": [
                "## 7. Create t-SNE Visualization for Bottom 10% Income Share"
            ]
        },
        {
            "cell_type": "code",
            "execution_count": null,
            "metadata": {},
            "source": [
                "# Visualization for bottom 10% income share\n",
                "fig = px.scatter(\n",
                "    tsne_df,\n",
                "    x='t-SNE Component 1',\n",
                "    y='t-SNE Component 2',\n",
                "    color=target_bottom,\n",
                "    color_continuous_scale='viridis',\n",
                "    opacity=0.7,\n",
                "    hover_data=['Country Name', 'Country Code', 'Year'],\n",
                "    title='t-SNE of Income Distribution Indicators (Bottom 10% Income Share)',\n",
                "    labels={\n",
                "        't-SNE Component 1': 't-SNE Component 1',\n",
                "        't-SNE Component 2': 't-SNE Component 2',\n",
                "        target_bottom: 'Bottom 10% Income Share'\n",
                "    }\n",
                ")\n",
                "fig.update_traces(marker=dict(size=8))\n",
                "fig.update_layout(\n",
                "    coloraxis_colorbar=dict(title='Bottom 10% Income Share'),\n",
                "    height=700,\n",
                "    width=900\n",
                ")\n",
                "\n",
                "# Save and display the figure\n",
                "fig.write_html('output/tsne/tsne_plot_bottom10_imputed.html', include_plotlyjs='cdn')\n",
                "fig.show()"
            ]
        },
        {
            "cell_type": "markdown",
            "metadata": {},
            "source": [
                "## 8. Last Record by Country - Top 10% Income Share"
            ]
        },
        {
            "cell_type": "code",
            "execution_count": null,
            "metadata": {},
            "source": [
                "# Get the most recent record for each country\n",
                "tsne_df['Year'] = pd.to_datetime(tsne_df['Year'])\n",
                "last_records = tsne_df.sort_values('Year').groupby('Country Code').last().reset_index()\n",
                "\n",
                "# Visualization for top 10% income share (last record by country)\n",
                "fig = px.scatter(\n",
                "    last_records,\n",
                "    x='t-SNE Component 1',\n",
                "    y='t-SNE Component 2',\n",
                "    color=target_top,\n",
                "    color_continuous_scale='viridis',\n",
                "    opacity=0.7,\n",
                "    hover_data=['Country Name', 'Country Code', 'Year'],\n",
                "    title='t-SNE of Income Distribution Indicators - Most Recent Data by Country (Top 10% Income Share)',\n",
                "    labels={\n",
                "        't-SNE Component 1': 't-SNE Component 1',\n",
                "        't-SNE Component 2': 't-SNE Component 2',\n",
                "        target_top: 'Top 10% Income Share'\n",
                "    }\n",
                ")\n",
                "fig.update_traces(marker=dict(size=10))\n",
                "fig.update_layout(\n",
                "    coloraxis_colorbar=dict(title='Top 10% Income Share'),\n",
                "    height=700,\n",
                "    width=900\n",
                ")\n",
                "\n",
                "# Save and display the figure\n",
                "fig.write_html('output/tsne/tsne_plot_top10_last_record_by_country.html', include_plotlyjs='cdn')\n",
                "fig.show()"
            ]
        },
        {
            "cell_type": "markdown",
            "metadata": {},
            "source": [
                "## 9. Last Record by Country - Bottom 10% Income Share"
            ]
        },
        {
            "cell_type": "code",
            "execution_count": null,
            "metadata": {},
            "source": [
                "# Visualization for bottom 10% income share (last record by country)\n",
                "fig = px.scatter(\n",
                "    last_records,\n",
                "    x='t-SNE Component 1',\n",
                "    y='t-SNE Component 2',\n",
                "    color=target_bottom,\n",
                "    color_continuous_scale='viridis',\n",
                "    opacity=0.7,\n",
                "    hover_data=['Country Name', 'Country Code', 'Year'],\n",
                "    title='t-SNE of Income Distribution Indicators - Most Recent Data by Country (Bottom 10% Income Share)',\n",
                "    labels={\n",
                "        't-SNE Component 1': 't-SNE Component 1',\n",
                "        't-SNE Component 2': 't-SNE Component 2',\n",
                "        target_bottom: 'Bottom 10% Income Share'\n",
                "    }\n",
                ")\n",
                "fig.update_traces(marker=dict(size=10))\n",
                "fig.update_layout(\n",
                "    coloraxis_colorbar=dict(title='Bottom 10% Income Share'),\n",
                "    height=700,\n",
                "    width=900\n",
                ")\n",
                "\n",
                "# Save and display the figure\n",
                "fig.write_html('output/tsne/tsne_plot_bottom10_last_record_by_country.html', include_plotlyjs='cdn')\n",
                "fig.show()"
            ]
        },
        {
            "cell_type": "markdown",
            "metadata": {},
            "source": [
                "## 10. Most Recent Year's Data Visualizations"
            ]
        },
        {
            "cell_type": "code",
            "execution_count": null,
            "metadata": {},
            "source": [
                "# Find the most recent year with substantial data\n",
                "recent_year = tsne_df['Year'].dt.year.max()\n",
                "recent_data = tsne_df[tsne_df['Year'].dt.year == recent_year]\n",
                "\n",
                "# Visualization for top 10% income share (recent year)\n",
                "fig = px.scatter(\n",
                "    recent_data,\n",
                "    x='t-SNE Component 1',\n",
                "    y='t-SNE Component 2',\n",
                "    color=target_top,\n",
                "    color_continuous_scale='viridis',\n",
                "    opacity=0.7,\n",
                "    hover_data=['Country Name', 'Country Code'],\n",
                "    title=f't-SNE of Income Distribution Indicators - {recent_year} Data (Top 10% Income Share)',\n",
                "    labels={\n",
                "        't-SNE Component 1': 't-SNE Component 1',\n",
                "        't-SNE Component 2': 't-SNE Component 2',\n",
                "        target_top: 'Top 10% Income Share'\n",
                "    }\n",
                ")\n",
                "fig.update_traces(marker=dict(size=10))\n",
                "fig.update_layout(\n",
                "    coloraxis_colorbar=dict(title='Top 10% Income Share'),\n",
                "    height=700,\n",
                "    width=900\n",
                ")\n",
                "\n",
                "# Save and display the figure\n",
                "fig.write_html('output/tsne/tsne_plot_recent_top10_imputed.html', include_plotlyjs='cdn')\n",
                "fig.show()\n",
                "\n",
                "# Visualization for bottom 10% income share (recent year)\n",
                "fig = px.scatter(\n",
                "    recent_data,\n",
                "    x='t-SNE Component 1',\n",
                "    y='t-SNE Component 2',\n",
                "    color=target_bottom,\n",
                "    color_continuous_scale='viridis',\n",
                "    opacity=0.7,\n",
                "    hover_data=['Country Name', 'Country Code'],\n",
                "    title=f't-SNE of Income Distribution Indicators - {recent_year} Data (Bottom 10% Income Share)',\n",
                "    labels={\n",
                "        't-SNE Component 1': 't-SNE Component 1',\n",
                "        't-SNE Component 2': 't-SNE Component 2',\n",
                "        target_bottom: 'Bottom 10% Income Share'\n",
                "    }\n",
                ")\n",
                "fig.update_traces(marker=dict(size=10))\n",
                "fig.update_layout(\n",
                "    coloraxis_colorbar=dict(title='Bottom 10% Income Share'),\n",
                "    height=700,\n",
                "    width=900\n",
                ")\n",
                "\n",
                "# Save and display the figure\n",
                "fig.write_html('output/tsne/tsne_plot_recent_bottom10_imputed.html', include_plotlyjs='cdn')\n",
                "fig.show()"
            ]
        }
    ],
    "metadata": {
        "kernelspec": {
            "display_name": "Python 3",
            "language": "python",
            "name": "python3"
        },
        "language_info": {
            "codemirror_mode": {
                "name": "ipython",
                "version": 3
            },
            "file_extension": ".py",
            "mimetype": "text/x-python",
            "name": "python",
            "nbconvert_exporter": "python",
            "pygments_lexer": "ipython3",
            "version": "3.8.8"
        }
    },
    "nbformat": 4,
    "nbformat_minor": 4
}