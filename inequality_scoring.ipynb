{
 "cells": [
  {
   "cell_type": "code",
   "execution_count": null,
   "id": "33a0044f",
   "metadata": {},
   "outputs": [],
   "source": [
    "import os\n",
    "import pandas as pd"
   ]
  },
  {
   "cell_type": "code",
   "execution_count": 15,
   "id": "f8286c01",
   "metadata": {},
   "outputs": [],
   "source": [
    "METRICS = ['GINI','top10','bottom10']\n",
    "N_FEATURES = 10\n",
    "SHAP_CLUSTER_DIR = f'output/shap_clustering'\n",
    "OUTPUT_DIR = 'output/inequality_scoring'\n",
    "CSV_OUTPUT_PATH = f'{OUTPUT_DIR}/inequality_scoring_{N_FEATURES}_features.csv'"
   ]
  },
  {
   "cell_type": "code",
   "execution_count": 17,
   "id": "8bf0f0e9",
   "metadata": {},
   "outputs": [
    {
     "name": "stdout",
     "output_type": "stream",
     "text": [
      "Parameters:\n",
      "  METRICS: ['GINI', 'top10', 'bottom10']\n",
      "  SHAP_CLUSTER_DIR: output/shap_clustering\n",
      "  N_FEATURES: 10\n",
      "  OUTPUT_DIR: output/inequality_scoring\n",
      "  CSV_OUTPUT_PATH: output/inequality_scoring/inequality_scoring_10_features.csv\n"
     ]
    }
   ],
   "source": [
    "print('Parameters:')\n",
    "print(f'  METRICS: {METRICS}')\n",
    "print(f'  SHAP_CLUSTER_DIR: {SHAP_CLUSTER_DIR}')\n",
    "print(f'  N_FEATURES: {N_FEATURES}')\n",
    "print(f'  OUTPUT_DIR: {OUTPUT_DIR}')\n",
    "print(f'  CSV_OUTPUT_PATH: {CSV_OUTPUT_PATH}')"
   ]
  },
  {
   "cell_type": "code",
   "execution_count": 44,
   "id": "43927251",
   "metadata": {},
   "outputs": [
    {
     "data": {
      "application/vnd.microsoft.datawrangler.viewer.v0+json": {
       "columns": [
        {
         "name": "Indicator Code",
         "rawType": "object",
         "type": "string"
        },
        {
         "name": "Indicator Name",
         "rawType": "object",
         "type": "string"
        },
        {
         "name": "Topic",
         "rawType": "object",
         "type": "string"
        },
        {
         "name": "Coarse_Topic",
         "rawType": "object",
         "type": "string"
        }
       ],
       "conversionMethod": "pd.DataFrame",
       "ref": "71d64f25-7158-41c0-801c-73d07c66d056",
       "rows": [
        [
         "AG.CON.FERT.PT.ZS",
         "Fertilizer consumption (% of fertilizer production)",
         "Environment: Agricultural production",
         "Environment & Climate"
        ],
        [
         "AG.CON.FERT.ZS",
         "Fertilizer consumption (kilograms per hectare of arable land)",
         "Environment: Agricultural production",
         "Environment & Climate"
        ],
        [
         "AG.LND.AGRI.K2",
         "Agricultural land (sq. km)",
         "Environment: Land use",
         "Environment & Climate"
        ],
        [
         "AG.LND.AGRI.ZS",
         "Agricultural land (% of land area)",
         "Environment: Land use",
         "Environment & Climate"
        ],
        [
         "AG.LND.ARBL.HA",
         "Arable land (hectares)",
         "Environment: Land use",
         "Environment & Climate"
        ],
        [
         "AG.LND.ARBL.HA.PC",
         "Arable land (hectares per person)",
         "Environment: Land use",
         "Environment & Climate"
        ],
        [
         "AG.LND.ARBL.ZS",
         "Arable land (% of land area)",
         "Environment: Land use",
         "Environment & Climate"
        ],
        [
         "AG.LND.CREL.HA",
         "Land under cereal production (hectares)",
         "Environment: Agricultural production",
         "Environment & Climate"
        ],
        [
         "AG.LND.CROP.ZS",
         "Permanent cropland (% of land area)",
         "Environment: Land use",
         "Environment & Climate"
        ],
        [
         "AG.LND.EL5M.RU.K2",
         "Rural land area where elevation is below 5 meters (sq. km)",
         "Environment: Land use",
         "Environment & Climate"
        ],
        [
         "AG.LND.EL5M.RU.ZS",
         "Rural land area where elevation is below 5 meters (% of total land area)",
         "Environment: Land use",
         "Environment & Climate"
        ],
        [
         "AG.LND.EL5M.UR.K2",
         "Urban land area where elevation is below 5 meters (sq. km)",
         "Environment: Land use",
         "Environment & Climate"
        ],
        [
         "AG.LND.EL5M.UR.ZS",
         "Urban land area where elevation is below 5 meters (% of total land area)",
         "Environment: Land use",
         "Environment & Climate"
        ],
        [
         "AG.LND.EL5M.ZS",
         "Land area where elevation is below 5 meters (% of total land area)",
         "Environment: Land use",
         "Environment & Climate"
        ],
        [
         "AG.LND.FRST.K2",
         "Forest area (sq. km)",
         "Environment: Land use",
         "Environment & Climate"
        ],
        [
         "AG.LND.FRST.ZS",
         "Forest area (% of land area)",
         "Environment: Land use",
         "Environment & Climate"
        ],
        [
         "AG.LND.IRIG.AG.ZS",
         "Agricultural irrigated land (% of total agricultural land)",
         "Environment: Land use",
         "Environment & Climate"
        ],
        [
         "AG.LND.PRCP.MM",
         "Average precipitation in depth (mm per year)",
         "Environment: Land use",
         "Environment & Climate"
        ],
        [
         "AG.LND.TOTL.K2",
         "Land area (sq. km)",
         "Environment: Land use",
         "Environment & Climate"
        ],
        [
         "AG.LND.TOTL.RU.K2",
         "Rural land area (sq. km)",
         "Environment: Land use",
         "Environment & Climate"
        ],
        [
         "AG.LND.TOTL.UR.K2",
         "Urban land area (sq. km)",
         "Environment: Land use",
         "Environment & Climate"
        ],
        [
         "AG.PRD.CREL.MT",
         "Cereal production (metric tons)",
         "Environment: Agricultural production",
         "Environment & Climate"
        ],
        [
         "AG.PRD.CROP.XD",
         "Crop production index (2014-2016 = 100)",
         "Environment: Agricultural production",
         "Environment & Climate"
        ],
        [
         "AG.PRD.FOOD.XD",
         "Food production index (2014-2016 = 100)",
         "Environment: Agricultural production",
         "Environment & Climate"
        ],
        [
         "AG.PRD.LVSK.XD",
         "Livestock production index (2014-2016 = 100)",
         "Environment: Agricultural production",
         "Environment & Climate"
        ],
        [
         "AG.SRF.TOTL.K2",
         "Surface area (sq. km)",
         "Environment: Land use",
         "Environment & Climate"
        ],
        [
         "AG.YLD.CREL.KG",
         "Cereal yield (kg per hectare)",
         "Environment: Agricultural production",
         "Environment & Climate"
        ],
        [
         "BG.GSR.NFSV.GD.ZS",
         "Trade in services (% of GDP)",
         "Economic Policy & Debt: Balance of payments: Current account: Goods, services & income",
         "Economy & Finance"
        ],
        [
         "BM.GSR.CMCP.ZS",
         "Communications, computer, etc. (% of service imports, BoP)",
         "Economic Policy & Debt: Balance of payments: Current account: Goods, services & income",
         "Economy & Finance"
        ],
        [
         "BM.GSR.FCTY.CD",
         "Primary income payments (BoP, current US$)",
         "Economic Policy & Debt: Balance of payments: Current account: Goods, services & income",
         "Economy & Finance"
        ],
        [
         "BM.GSR.GNFS.CD",
         "Imports of goods and services (BoP, current US$)",
         "Economic Policy & Debt: Balance of payments: Current account: Goods, services & income",
         "Economy & Finance"
        ],
        [
         "BM.GSR.INSF.ZS",
         "Insurance and financial services (% of service imports, BoP)",
         "Economic Policy & Debt: Balance of payments: Current account: Goods, services & income",
         "Economy & Finance"
        ],
        [
         "BM.GSR.MRCH.CD",
         "Goods imports (BoP, current US$)",
         "Economic Policy & Debt: Balance of payments: Current account: Goods, services & income",
         "Economy & Finance"
        ],
        [
         "BM.GSR.NFSV.CD",
         "Service imports (BoP, current US$)",
         "Economic Policy & Debt: Balance of payments: Current account: Goods, services & income",
         "Economy & Finance"
        ],
        [
         "BM.GSR.ROYL.CD",
         "Charges for the use of intellectual property, payments (BoP, current US$)",
         "Economic Policy & Debt: Balance of payments: Current account: Goods, services & income",
         "Economy & Finance"
        ],
        [
         "BM.GSR.TOTL.CD",
         "Imports of goods, services and primary income (BoP, current US$)",
         "Economic Policy & Debt: Balance of payments: Current account: Goods, services & income",
         "Economy & Finance"
        ],
        [
         "BM.GSR.TRAN.ZS",
         "Transport services (% of service imports, BoP)",
         "Economic Policy & Debt: Balance of payments: Current account: Goods, services & income",
         "Economy & Finance"
        ],
        [
         "BM.GSR.TRVL.ZS",
         "Travel services (% of service imports, BoP)",
         "Economic Policy & Debt: Balance of payments: Current account: Goods, services & income",
         "Economy & Finance"
        ],
        [
         "BM.KLT.DINV.CD.WD",
         "Foreign direct investment, net outflows (BoP, current US$)",
         "Economic Policy & Debt: Balance of payments: Capital & financial account",
         "Economy & Finance"
        ],
        [
         "BM.KLT.DINV.WD.GD.ZS",
         "Foreign direct investment, net outflows (% of GDP)",
         "Economic Policy & Debt: Balance of payments: Capital & financial account",
         "Economy & Finance"
        ],
        [
         "BM.TRF.PRVT.CD",
         "Secondary income, other sectors, payments (BoP, current US$)",
         "Economic Policy & Debt: Balance of payments: Current account: Transfers",
         "Economy & Finance"
        ],
        [
         "BM.TRF.PWKR.CD.DT",
         "Personal remittances, paid (current US$)",
         "Economic Policy & Debt: Balance of payments: Current account: Transfers",
         "Economy & Finance"
        ],
        [
         "BN.CAB.XOKA.CD",
         "Current account balance (BoP, current US$)",
         "Economic Policy & Debt: Balance of payments: Current account: Balances",
         "Economy & Finance"
        ],
        [
         "BN.CAB.XOKA.GD.ZS",
         "Current account balance (% of GDP)",
         "Economic Policy & Debt: Balance of payments: Current account: Balances",
         "Economy & Finance"
        ],
        [
         "BN.FIN.TOTL.CD",
         "Net financial account (BoP, current US$)",
         "Economic Policy & Debt: Balance of payments: Capital & financial account",
         "Economy & Finance"
        ],
        [
         "BN.GSR.FCTY.CD",
         "Net primary income (BoP, current US$)",
         "Economic Policy & Debt: Balance of payments: Current account: Goods, services & income",
         "Economy & Finance"
        ],
        [
         "BN.GSR.GNFS.CD",
         "Net trade in goods and services (BoP, current US$)",
         "Economic Policy & Debt: Balance of payments: Current account: Balances",
         "Economy & Finance"
        ],
        [
         "BN.GSR.MRCH.CD",
         "Net trade in goods (BoP, current US$)",
         "Economic Policy & Debt: Balance of payments: Current account: Balances",
         "Economy & Finance"
        ],
        [
         "BN.KAC.EOMS.CD",
         "Net errors and omissions (BoP, current US$)",
         "Economic Policy & Debt: Balance of payments: Capital & financial account",
         "Economy & Finance"
        ],
        [
         "BN.KLT.DINV.CD",
         "Foreign direct investment, net (BoP, current US$)",
         "Economic Policy & Debt: Balance of payments: Capital & financial account",
         "Economy & Finance"
        ]
       ],
       "shape": {
        "columns": 3,
        "rows": 1496
       }
      },
      "text/html": [
       "<div>\n",
       "<style scoped>\n",
       "    .dataframe tbody tr th:only-of-type {\n",
       "        vertical-align: middle;\n",
       "    }\n",
       "\n",
       "    .dataframe tbody tr th {\n",
       "        vertical-align: top;\n",
       "    }\n",
       "\n",
       "    .dataframe thead th {\n",
       "        text-align: right;\n",
       "    }\n",
       "</style>\n",
       "<table border=\"1\" class=\"dataframe\">\n",
       "  <thead>\n",
       "    <tr style=\"text-align: right;\">\n",
       "      <th></th>\n",
       "      <th>Indicator Name</th>\n",
       "      <th>Topic</th>\n",
       "      <th>Coarse_Topic</th>\n",
       "    </tr>\n",
       "    <tr>\n",
       "      <th>Indicator Code</th>\n",
       "      <th></th>\n",
       "      <th></th>\n",
       "      <th></th>\n",
       "    </tr>\n",
       "  </thead>\n",
       "  <tbody>\n",
       "    <tr>\n",
       "      <th>AG.CON.FERT.PT.ZS</th>\n",
       "      <td>Fertilizer consumption (% of fertilizer produc...</td>\n",
       "      <td>Environment: Agricultural production</td>\n",
       "      <td>Environment &amp; Climate</td>\n",
       "    </tr>\n",
       "    <tr>\n",
       "      <th>AG.CON.FERT.ZS</th>\n",
       "      <td>Fertilizer consumption (kilograms per hectare ...</td>\n",
       "      <td>Environment: Agricultural production</td>\n",
       "      <td>Environment &amp; Climate</td>\n",
       "    </tr>\n",
       "    <tr>\n",
       "      <th>AG.LND.AGRI.K2</th>\n",
       "      <td>Agricultural land (sq. km)</td>\n",
       "      <td>Environment: Land use</td>\n",
       "      <td>Environment &amp; Climate</td>\n",
       "    </tr>\n",
       "    <tr>\n",
       "      <th>AG.LND.AGRI.ZS</th>\n",
       "      <td>Agricultural land (% of land area)</td>\n",
       "      <td>Environment: Land use</td>\n",
       "      <td>Environment &amp; Climate</td>\n",
       "    </tr>\n",
       "    <tr>\n",
       "      <th>AG.LND.ARBL.HA</th>\n",
       "      <td>Arable land (hectares)</td>\n",
       "      <td>Environment: Land use</td>\n",
       "      <td>Environment &amp; Climate</td>\n",
       "    </tr>\n",
       "    <tr>\n",
       "      <th>...</th>\n",
       "      <td>...</td>\n",
       "      <td>...</td>\n",
       "      <td>...</td>\n",
       "    </tr>\n",
       "    <tr>\n",
       "      <th>VC.IDP.NWDS</th>\n",
       "      <td>Internally displaced persons, new displacement...</td>\n",
       "      <td>Public Sector: Conflict &amp; fragility</td>\n",
       "      <td>Government &amp; Governance</td>\n",
       "    </tr>\n",
       "    <tr>\n",
       "      <th>VC.IDP.TOCV</th>\n",
       "      <td>Internally displaced persons, total displaced ...</td>\n",
       "      <td>Public Sector: Conflict &amp; fragility</td>\n",
       "      <td>Government &amp; Governance</td>\n",
       "    </tr>\n",
       "    <tr>\n",
       "      <th>VC.IHR.PSRC.FE.P5</th>\n",
       "      <td>Intentional homicides, female (per 100,000 fem...</td>\n",
       "      <td>Public Sector: Conflict &amp; fragility</td>\n",
       "      <td>Government &amp; Governance</td>\n",
       "    </tr>\n",
       "    <tr>\n",
       "      <th>VC.IHR.PSRC.MA.P5</th>\n",
       "      <td>Intentional homicides, male (per 100,000 male)</td>\n",
       "      <td>Public Sector: Conflict &amp; fragility</td>\n",
       "      <td>Government &amp; Governance</td>\n",
       "    </tr>\n",
       "    <tr>\n",
       "      <th>VC.IHR.PSRC.P5</th>\n",
       "      <td>Intentional homicides (per 100,000 people)</td>\n",
       "      <td>Public Sector: Conflict &amp; fragility</td>\n",
       "      <td>Government &amp; Governance</td>\n",
       "    </tr>\n",
       "  </tbody>\n",
       "</table>\n",
       "<p>1496 rows × 3 columns</p>\n",
       "</div>"
      ],
      "text/plain": [
       "                                                      Indicator Name  \\\n",
       "Indicator Code                                                         \n",
       "AG.CON.FERT.PT.ZS  Fertilizer consumption (% of fertilizer produc...   \n",
       "AG.CON.FERT.ZS     Fertilizer consumption (kilograms per hectare ...   \n",
       "AG.LND.AGRI.K2                            Agricultural land (sq. km)   \n",
       "AG.LND.AGRI.ZS                    Agricultural land (% of land area)   \n",
       "AG.LND.ARBL.HA                                Arable land (hectares)   \n",
       "...                                                              ...   \n",
       "VC.IDP.NWDS        Internally displaced persons, new displacement...   \n",
       "VC.IDP.TOCV        Internally displaced persons, total displaced ...   \n",
       "VC.IHR.PSRC.FE.P5  Intentional homicides, female (per 100,000 fem...   \n",
       "VC.IHR.PSRC.MA.P5     Intentional homicides, male (per 100,000 male)   \n",
       "VC.IHR.PSRC.P5            Intentional homicides (per 100,000 people)   \n",
       "\n",
       "                                                  Topic  \\\n",
       "Indicator Code                                            \n",
       "AG.CON.FERT.PT.ZS  Environment: Agricultural production   \n",
       "AG.CON.FERT.ZS     Environment: Agricultural production   \n",
       "AG.LND.AGRI.K2                    Environment: Land use   \n",
       "AG.LND.AGRI.ZS                    Environment: Land use   \n",
       "AG.LND.ARBL.HA                    Environment: Land use   \n",
       "...                                                 ...   \n",
       "VC.IDP.NWDS         Public Sector: Conflict & fragility   \n",
       "VC.IDP.TOCV         Public Sector: Conflict & fragility   \n",
       "VC.IHR.PSRC.FE.P5   Public Sector: Conflict & fragility   \n",
       "VC.IHR.PSRC.MA.P5   Public Sector: Conflict & fragility   \n",
       "VC.IHR.PSRC.P5      Public Sector: Conflict & fragility   \n",
       "\n",
       "                              Coarse_Topic  \n",
       "Indicator Code                              \n",
       "AG.CON.FERT.PT.ZS    Environment & Climate  \n",
       "AG.CON.FERT.ZS       Environment & Climate  \n",
       "AG.LND.AGRI.K2       Environment & Climate  \n",
       "AG.LND.AGRI.ZS       Environment & Climate  \n",
       "AG.LND.ARBL.HA       Environment & Climate  \n",
       "...                                    ...  \n",
       "VC.IDP.NWDS        Government & Governance  \n",
       "VC.IDP.TOCV        Government & Governance  \n",
       "VC.IHR.PSRC.FE.P5  Government & Governance  \n",
       "VC.IHR.PSRC.MA.P5  Government & Governance  \n",
       "VC.IHR.PSRC.P5     Government & Governance  \n",
       "\n",
       "[1496 rows x 3 columns]"
      ]
     },
     "execution_count": 44,
     "metadata": {},
     "output_type": "execute_result"
    }
   ],
   "source": [
    "lookup = pd.read_csv('output/reference/indicator_lookup.csv', index_col=0)\n",
    "df = pd.read_csv('output/feature_importance_NCV/GINI/country_shap_values_GINI_2000_to_2020.csv')\n",
    "df_labels = df[['Country_Code','Country_Name']]\n",
    "df_data = df.drop(columns=['Country_Code','Country_Name'])\n",
    "lookup"
   ]
  },
  {
   "cell_type": "code",
   "execution_count": 50,
   "id": "40eb7b5e",
   "metadata": {},
   "outputs": [
    {
     "data": {
      "application/vnd.microsoft.datawrangler.viewer.v0+json": {
       "columns": [
        {
         "name": "index",
         "rawType": "object",
         "type": "string"
        },
        {
         "name": "Indicator Name",
         "rawType": "object",
         "type": "unknown"
        },
        {
         "name": "SHAP mean",
         "rawType": "float64",
         "type": "float"
        }
       ],
       "conversionMethod": "pd.DataFrame",
       "ref": "ebad763e-d8d7-41bb-a7e3-6ac7059ecbf6",
       "rows": [
        [
         "SE.SEC.PROG.MA.ZS",
         "Progression to secondary school, male (%)",
         "0.061083996952571426"
        ],
        [
         "SH.DYN.AIDS.ZS",
         "Prevalence of HIV, total (% of population ages 15-49)",
         "0.04324659484952381"
        ],
        [
         "SG.GEN.PARL.ZS",
         "Proportion of seats held by women in national parliaments (%)",
         "0.03823888570428571"
        ],
        [
         "SL.EMP.MPYR.FE.ZS",
         "Employers, female (% of female employment) (modeled ILO estimate)",
         "0.028704278410619052"
        ],
        [
         "EN.GHG.CO2.ZG.AR5",
         "Carbon dioxide (CO2) emissions (total) excluding LULUCF (% change from 1990)",
         "0.027805585160238098"
        ],
        [
         "IQ.SPI.PIL1",
         "Statistical performance indicators (SPI): Pillar 1 data use score (scale 0-100)",
         "0.0267859690892381"
        ],
        [
         "IC.TAX.DURS",
         "Time to prepare and pay taxes (hours)",
         "0.026527993346000003"
        ],
        [
         "DC.DAC.SVKL.CD",
         "Net bilateral aid flows from DAC donors, Slovak Republic (current US$)",
         "0.025037101400142855"
        ],
        [
         "PV.STD.ERR",
         "Political Stability and Absence of Violence/Terrorism: Standard Error",
         "0.023342888453238095"
        ],
        [
         "DT.NFL.BLAT.CD",
         "Net financial flows, bilateral (NFL, current US$)",
         "0.023204492820809525"
        ],
        [
         "EN.POP.DNST",
         "Population density (people per sq. km of land area)",
         "0.022929968984285714"
        ],
        [
         "CM.MKT.LDOM.NO",
         "Listed domestic companies, total",
         "0.021153705557885715"
        ],
        [
         "AG.PRD.LVSK.XD_lag1",
         null,
         "0.019779494577142856"
        ],
        [
         "ER.H2O.INTR.PC",
         "Renewable internal freshwater resources per capita (cubic meters)",
         "0.01964488596623809"
        ],
        [
         "SP.POP.65UP.MA.IN",
         "Population ages 65 and above, male",
         "0.019594815724714287"
        ],
        [
         "NV.MNF.FBTO.ZS.UN",
         "Food, beverages and tobacco (% of value added in manufacturing)",
         "0.019112423866666665"
        ],
        [
         "EN.ATM.PM25.MC.ZS",
         "PM2.5 air pollution, population exposed to levels exceeding WHO guideline value (% of total)",
         "0.018077983752380955"
        ],
        [
         "AG.LND.ARBL.HA_roll3",
         null,
         "0.01776825913952381"
        ],
        [
         "AG.PRD.CROP.XD_roll3",
         null,
         "0.01760026349095238"
        ],
        [
         "SE.XPD.CPRM.ZS",
         "Current education expenditure, primary (% of total expenditure in primary public institutions)",
         "0.016732922178238095"
        ],
        [
         "SH.STA.SMSS.UR.ZS",
         "People using safely managed sanitation services, urban (% of urban population)",
         "0.01660816216804762"
        ],
        [
         "AG.LND.AGRI.ZS_lag1",
         null,
         "0.01636958534952381"
        ],
        [
         "BX.GSR.CCIS.CD",
         "ICT service exports (BoP, current US$)",
         "0.015884725080666667"
        ],
        [
         "SE.PRE.TCAQ.MA.ZS",
         "Trained teachers in preprimary education, male (% of male teachers)",
         "0.014912201415238096"
        ],
        [
         "MS.MIL.MPRT.KD",
         "Arms imports (SIPRI trend indicator values)",
         "0.014567554873428572"
        ],
        [
         "EN.URB.LCTY",
         "Population in largest city",
         "0.014489665164571426"
        ],
        [
         "TM.VAL.MRCH.OR.ZS",
         "Merchandise imports from low- and middle-income economies outside region (% of total merchandise imports)",
         "0.014311878595190477"
        ],
        [
         "AG.PRD.LVSK.XD",
         "Livestock production index (2014-2016 = 100)",
         "0.014164294866190476"
        ],
        [
         "SH.MMR.DTHS",
         "Number of maternal deaths",
         "0.013738880060661906"
        ],
        [
         "IC.ISV.DURS",
         "Time to resolve insolvency (years)",
         "0.012951845761285713"
        ],
        [
         "MS.MIL.TOTL.TF.ZS",
         "Armed forces personnel (% of total labor force)",
         "0.012621317893190476"
        ],
        [
         "SH.IMM.HEPB",
         "Immunization, HepB3 (% of one-year-old children)",
         "0.011989275090333332"
        ],
        [
         "AG.PRD.CROP.XD",
         "Crop production index (2014-2016 = 100)",
         "0.011972174192823811"
        ],
        [
         "IC.LGL.DURS",
         "Time required to enforce a contract (days)",
         "0.011284684430952381"
        ],
        [
         "AG.LND.ARBL.HA_lag1",
         null,
         "0.011259240392585716"
        ],
        [
         "PV.PER.RNK.UPPER",
         "Political Stability and Absence of Violence/Terrorism: Percentile Rank, Upper Bound of 90% Confidence Interval",
         "0.010835711736952382"
        ],
        [
         "TM.TAX.TCOM.BC.ZS",
         "Binding coverage, primary products (%)",
         "0.010818896609619048"
        ],
        [
         "NE.RSB.GNFS.ZS",
         "External balance on goods and services (% of GDP)",
         "0.010666212175238094"
        ],
        [
         "SE.SEC.ENRL.VO",
         "Secondary education, vocational pupils",
         "0.010011485212285716"
        ],
        [
         "FB.CBK.DPTR.P3",
         "Depositors with commercial banks (per 1,000 adults)",
         "0.009866033018380953"
        ],
        [
         "SL.UEM.ADVN.MA.ZS",
         "Unemployment with advanced education, male (% of male labor force with advanced education)",
         "0.009801586959619048"
        ],
        [
         "SE.PRM.ENRR.MA",
         "School enrollment, primary, male (% gross)",
         "0.00976740289952381"
        ],
        [
         "NY.GDP.FRST.RT.ZS",
         "Forest rents (% of GDP)",
         "0.009210518896047619"
        ],
        [
         "TM.UVI.MRCH.XD.WD",
         "Import unit value index (2015 = 100)",
         "0.009197654826038097"
        ],
        [
         "AG.CON.FERT.ZS",
         "Fertilizer consumption (kilograms per hectare of arable land)",
         "0.008956880693"
        ],
        [
         "SL.TLF.TOTL.FE.ZS",
         "Labor force, female (% of total labor force)",
         "0.008883923328714285"
        ],
        [
         "AG.PRD.CROP.XD_lag1",
         null,
         "0.008802972579333334"
        ],
        [
         "PA.NUS.ATLS",
         "DEC alternative conversion factor (LCU per US$)",
         "0.008690653992047619"
        ],
        [
         "NE.GDI.FTOT.KD.ZG",
         "Gross fixed capital formation (annual % growth)",
         "0.008685294054761905"
        ],
        [
         "FS.AST.CGOV.GD.ZS",
         "Claims on central government, etc. (% GDP)",
         "0.008633242883"
        ]
       ],
       "shape": {
        "columns": 2,
        "rows": 428
       }
      },
      "text/html": [
       "<div>\n",
       "<style scoped>\n",
       "    .dataframe tbody tr th:only-of-type {\n",
       "        vertical-align: middle;\n",
       "    }\n",
       "\n",
       "    .dataframe tbody tr th {\n",
       "        vertical-align: top;\n",
       "    }\n",
       "\n",
       "    .dataframe thead th {\n",
       "        text-align: right;\n",
       "    }\n",
       "</style>\n",
       "<table border=\"1\" class=\"dataframe\">\n",
       "  <thead>\n",
       "    <tr style=\"text-align: right;\">\n",
       "      <th></th>\n",
       "      <th>Indicator Name</th>\n",
       "      <th>SHAP mean</th>\n",
       "    </tr>\n",
       "  </thead>\n",
       "  <tbody>\n",
       "    <tr>\n",
       "      <th>SE.SEC.PROG.MA.ZS</th>\n",
       "      <td>Progression to secondary school, male (%)</td>\n",
       "      <td>0.061084</td>\n",
       "    </tr>\n",
       "    <tr>\n",
       "      <th>SH.DYN.AIDS.ZS</th>\n",
       "      <td>Prevalence of HIV, total (% of population ages...</td>\n",
       "      <td>0.043247</td>\n",
       "    </tr>\n",
       "    <tr>\n",
       "      <th>SG.GEN.PARL.ZS</th>\n",
       "      <td>Proportion of seats held by women in national ...</td>\n",
       "      <td>0.038239</td>\n",
       "    </tr>\n",
       "    <tr>\n",
       "      <th>SL.EMP.MPYR.FE.ZS</th>\n",
       "      <td>Employers, female (% of female employment) (mo...</td>\n",
       "      <td>0.028704</td>\n",
       "    </tr>\n",
       "    <tr>\n",
       "      <th>EN.GHG.CO2.ZG.AR5</th>\n",
       "      <td>Carbon dioxide (CO2) emissions (total) excludi...</td>\n",
       "      <td>0.027806</td>\n",
       "    </tr>\n",
       "    <tr>\n",
       "      <th>...</th>\n",
       "      <td>...</td>\n",
       "      <td>...</td>\n",
       "    </tr>\n",
       "    <tr>\n",
       "      <th>TX.VAL.MRCH.XD.WD</th>\n",
       "      <td>Export value index (2015 = 100)</td>\n",
       "      <td>-0.042480</td>\n",
       "    </tr>\n",
       "    <tr>\n",
       "      <th>SE.TER.TCHR.FE.ZS</th>\n",
       "      <td>Tertiary education, academic staff (% female)</td>\n",
       "      <td>-0.044802</td>\n",
       "    </tr>\n",
       "    <tr>\n",
       "      <th>FI.RES.TOTL.MO</th>\n",
       "      <td>Total reserves in months of imports</td>\n",
       "      <td>-0.054288</td>\n",
       "    </tr>\n",
       "    <tr>\n",
       "      <th>SL.IND.EMPL.FE.ZS</th>\n",
       "      <td>Employment in industry, female (% of female em...</td>\n",
       "      <td>-0.073859</td>\n",
       "    </tr>\n",
       "    <tr>\n",
       "      <th>IC.REG.COST.PC.ZS</th>\n",
       "      <td>Cost of business start-up procedures (% of GNI...</td>\n",
       "      <td>-0.082368</td>\n",
       "    </tr>\n",
       "  </tbody>\n",
       "</table>\n",
       "<p>428 rows × 2 columns</p>\n",
       "</div>"
      ],
      "text/plain": [
       "                                                      Indicator Name  \\\n",
       "SE.SEC.PROG.MA.ZS          Progression to secondary school, male (%)   \n",
       "SH.DYN.AIDS.ZS     Prevalence of HIV, total (% of population ages...   \n",
       "SG.GEN.PARL.ZS     Proportion of seats held by women in national ...   \n",
       "SL.EMP.MPYR.FE.ZS  Employers, female (% of female employment) (mo...   \n",
       "EN.GHG.CO2.ZG.AR5  Carbon dioxide (CO2) emissions (total) excludi...   \n",
       "...                                                              ...   \n",
       "TX.VAL.MRCH.XD.WD                    Export value index (2015 = 100)   \n",
       "SE.TER.TCHR.FE.ZS      Tertiary education, academic staff (% female)   \n",
       "FI.RES.TOTL.MO                   Total reserves in months of imports   \n",
       "SL.IND.EMPL.FE.ZS  Employment in industry, female (% of female em...   \n",
       "IC.REG.COST.PC.ZS  Cost of business start-up procedures (% of GNI...   \n",
       "\n",
       "                   SHAP mean  \n",
       "SE.SEC.PROG.MA.ZS   0.061084  \n",
       "SH.DYN.AIDS.ZS      0.043247  \n",
       "SG.GEN.PARL.ZS      0.038239  \n",
       "SL.EMP.MPYR.FE.ZS   0.028704  \n",
       "EN.GHG.CO2.ZG.AR5   0.027806  \n",
       "...                      ...  \n",
       "TX.VAL.MRCH.XD.WD  -0.042480  \n",
       "SE.TER.TCHR.FE.ZS  -0.044802  \n",
       "FI.RES.TOTL.MO     -0.054288  \n",
       "SL.IND.EMPL.FE.ZS  -0.073859  \n",
       "IC.REG.COST.PC.ZS  -0.082368  \n",
       "\n",
       "[428 rows x 2 columns]"
      ]
     },
     "execution_count": 50,
     "metadata": {},
     "output_type": "execute_result"
    }
   ],
   "source": [
    "shap_mean = pd.DataFrame(df_data.mean(), columns=['SHAP mean']).sort_values(by='SHAP mean', ascending=False)\n",
    "shap_mean['Indicator Name'] = shap_mean.merge(lookup, left_index=True, right_index=True)['Indicator Name']\n",
    "shap_mean = shap_mean[['Indicator Name','SHAP mean']]\n",
    "shap_mean"
   ]
  }
 ],
 "metadata": {
  "kernelspec": {
   "display_name": "Python 3",
   "language": "python",
   "name": "python3"
  },
  "language_info": {
   "codemirror_mode": {
    "name": "ipython",
    "version": 3
   },
   "file_extension": ".py",
   "mimetype": "text/x-python",
   "name": "python",
   "nbconvert_exporter": "python",
   "pygments_lexer": "ipython3",
   "version": "3.11.3"
  }
 },
 "nbformat": 4,
 "nbformat_minor": 5
}
